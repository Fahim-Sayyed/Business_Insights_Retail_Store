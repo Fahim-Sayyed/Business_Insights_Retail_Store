{
 "cells": [
  {
   "cell_type": "code",
   "execution_count": 239,
   "id": "32f7dbcf",
   "metadata": {},
   "outputs": [],
   "source": [
    "import pandas as pd\n",
    "import numpy as np\n",
    "import matplotlib.pyplot as plt\n",
    "import datetime as dt\n",
    "import seaborn as sns\n",
    "\n",
    "# set the graphs to show in the jupyter notebook\n",
    "%matplotlib inline"
   ]
  },
  {
   "cell_type": "code",
   "execution_count": 266,
   "id": "943cdc52",
   "metadata": {},
   "outputs": [],
   "source": [
    "file_path = 'C:/Users/hp/Desktop/Data Analytics/Assignments/Python/Python Foundation Case Study 1 - Retail Case Study_A2/'\n",
    "customer = pd.read_csv( file_path + 'Customer.csv')\n",
    "transaction = pd.read_csv( file_path + 'Transactions.csv')\n",
    "product_info = pd.read_csv( file_path + 'Prod_cat_info.csv')"
   ]
  },
  {
   "cell_type": "code",
   "execution_count": 267,
   "id": "09dc9579",
   "metadata": {},
   "outputs": [
    {
     "data": {
      "text/html": [
       "<div>\n",
       "<style scoped>\n",
       "    .dataframe tbody tr th:only-of-type {\n",
       "        vertical-align: middle;\n",
       "    }\n",
       "\n",
       "    .dataframe tbody tr th {\n",
       "        vertical-align: top;\n",
       "    }\n",
       "\n",
       "    .dataframe thead th {\n",
       "        text-align: right;\n",
       "    }\n",
       "</style>\n",
       "<table border=\"1\" class=\"dataframe\">\n",
       "  <thead>\n",
       "    <tr style=\"text-align: right;\">\n",
       "      <th></th>\n",
       "      <th>customer_Id</th>\n",
       "      <th>DOB</th>\n",
       "      <th>Gender</th>\n",
       "      <th>city_code</th>\n",
       "    </tr>\n",
       "  </thead>\n",
       "  <tbody>\n",
       "    <tr>\n",
       "      <th>0</th>\n",
       "      <td>268408</td>\n",
       "      <td>02-01-1970</td>\n",
       "      <td>M</td>\n",
       "      <td>4.0</td>\n",
       "    </tr>\n",
       "    <tr>\n",
       "      <th>1</th>\n",
       "      <td>269696</td>\n",
       "      <td>07-01-1970</td>\n",
       "      <td>F</td>\n",
       "      <td>8.0</td>\n",
       "    </tr>\n",
       "    <tr>\n",
       "      <th>2</th>\n",
       "      <td>268159</td>\n",
       "      <td>08-01-1970</td>\n",
       "      <td>F</td>\n",
       "      <td>8.0</td>\n",
       "    </tr>\n",
       "    <tr>\n",
       "      <th>3</th>\n",
       "      <td>270181</td>\n",
       "      <td>10-01-1970</td>\n",
       "      <td>F</td>\n",
       "      <td>2.0</td>\n",
       "    </tr>\n",
       "    <tr>\n",
       "      <th>4</th>\n",
       "      <td>268073</td>\n",
       "      <td>11-01-1970</td>\n",
       "      <td>M</td>\n",
       "      <td>1.0</td>\n",
       "    </tr>\n",
       "  </tbody>\n",
       "</table>\n",
       "</div>"
      ],
      "text/plain": [
       "   customer_Id         DOB Gender  city_code\n",
       "0       268408  02-01-1970      M        4.0\n",
       "1       269696  07-01-1970      F        8.0\n",
       "2       268159  08-01-1970      F        8.0\n",
       "3       270181  10-01-1970      F        2.0\n",
       "4       268073  11-01-1970      M        1.0"
      ]
     },
     "execution_count": 267,
     "metadata": {},
     "output_type": "execute_result"
    }
   ],
   "source": [
    "customer.head()"
   ]
  },
  {
   "cell_type": "code",
   "execution_count": 268,
   "id": "85475c93",
   "metadata": {},
   "outputs": [],
   "source": [
    "customer.rename( columns={'customer_Id':'cust_id'}, inplace=True)"
   ]
  },
  {
   "cell_type": "code",
   "execution_count": 269,
   "id": "aaac04fe",
   "metadata": {},
   "outputs": [
    {
     "data": {
      "text/html": [
       "<div>\n",
       "<style scoped>\n",
       "    .dataframe tbody tr th:only-of-type {\n",
       "        vertical-align: middle;\n",
       "    }\n",
       "\n",
       "    .dataframe tbody tr th {\n",
       "        vertical-align: top;\n",
       "    }\n",
       "\n",
       "    .dataframe thead th {\n",
       "        text-align: right;\n",
       "    }\n",
       "</style>\n",
       "<table border=\"1\" class=\"dataframe\">\n",
       "  <thead>\n",
       "    <tr style=\"text-align: right;\">\n",
       "      <th></th>\n",
       "      <th>transaction_id</th>\n",
       "      <th>cust_id</th>\n",
       "      <th>tran_date</th>\n",
       "      <th>prod_subcat_code</th>\n",
       "      <th>prod_cat_code</th>\n",
       "      <th>Qty</th>\n",
       "      <th>Rate</th>\n",
       "      <th>Tax</th>\n",
       "      <th>total_amt</th>\n",
       "      <th>Store_type</th>\n",
       "    </tr>\n",
       "  </thead>\n",
       "  <tbody>\n",
       "    <tr>\n",
       "      <th>0</th>\n",
       "      <td>80712190438</td>\n",
       "      <td>270351</td>\n",
       "      <td>28-02-2014</td>\n",
       "      <td>1</td>\n",
       "      <td>1</td>\n",
       "      <td>-5</td>\n",
       "      <td>-772</td>\n",
       "      <td>405.300</td>\n",
       "      <td>-4265.300</td>\n",
       "      <td>e-Shop</td>\n",
       "    </tr>\n",
       "    <tr>\n",
       "      <th>1</th>\n",
       "      <td>29258453508</td>\n",
       "      <td>270384</td>\n",
       "      <td>27-02-2014</td>\n",
       "      <td>5</td>\n",
       "      <td>3</td>\n",
       "      <td>-5</td>\n",
       "      <td>-1497</td>\n",
       "      <td>785.925</td>\n",
       "      <td>-8270.925</td>\n",
       "      <td>e-Shop</td>\n",
       "    </tr>\n",
       "    <tr>\n",
       "      <th>2</th>\n",
       "      <td>51750724947</td>\n",
       "      <td>273420</td>\n",
       "      <td>24-02-2014</td>\n",
       "      <td>6</td>\n",
       "      <td>5</td>\n",
       "      <td>-2</td>\n",
       "      <td>-791</td>\n",
       "      <td>166.110</td>\n",
       "      <td>-1748.110</td>\n",
       "      <td>TeleShop</td>\n",
       "    </tr>\n",
       "    <tr>\n",
       "      <th>3</th>\n",
       "      <td>93274880719</td>\n",
       "      <td>271509</td>\n",
       "      <td>24-02-2014</td>\n",
       "      <td>11</td>\n",
       "      <td>6</td>\n",
       "      <td>-3</td>\n",
       "      <td>-1363</td>\n",
       "      <td>429.345</td>\n",
       "      <td>-4518.345</td>\n",
       "      <td>e-Shop</td>\n",
       "    </tr>\n",
       "    <tr>\n",
       "      <th>4</th>\n",
       "      <td>51750724947</td>\n",
       "      <td>273420</td>\n",
       "      <td>23-02-2014</td>\n",
       "      <td>6</td>\n",
       "      <td>5</td>\n",
       "      <td>-2</td>\n",
       "      <td>-791</td>\n",
       "      <td>166.110</td>\n",
       "      <td>-1748.110</td>\n",
       "      <td>TeleShop</td>\n",
       "    </tr>\n",
       "  </tbody>\n",
       "</table>\n",
       "</div>"
      ],
      "text/plain": [
       "   transaction_id  cust_id   tran_date  prod_subcat_code  prod_cat_code  Qty  \\\n",
       "0     80712190438   270351  28-02-2014                 1              1   -5   \n",
       "1     29258453508   270384  27-02-2014                 5              3   -5   \n",
       "2     51750724947   273420  24-02-2014                 6              5   -2   \n",
       "3     93274880719   271509  24-02-2014                11              6   -3   \n",
       "4     51750724947   273420  23-02-2014                 6              5   -2   \n",
       "\n",
       "   Rate      Tax  total_amt Store_type  \n",
       "0  -772  405.300  -4265.300     e-Shop  \n",
       "1 -1497  785.925  -8270.925     e-Shop  \n",
       "2  -791  166.110  -1748.110   TeleShop  \n",
       "3 -1363  429.345  -4518.345     e-Shop  \n",
       "4  -791  166.110  -1748.110   TeleShop  "
      ]
     },
     "execution_count": 269,
     "metadata": {},
     "output_type": "execute_result"
    }
   ],
   "source": [
    "transaction.head()"
   ]
  },
  {
   "cell_type": "code",
   "execution_count": 270,
   "id": "beb97bde",
   "metadata": {},
   "outputs": [
    {
     "data": {
      "text/html": [
       "<div>\n",
       "<style scoped>\n",
       "    .dataframe tbody tr th:only-of-type {\n",
       "        vertical-align: middle;\n",
       "    }\n",
       "\n",
       "    .dataframe tbody tr th {\n",
       "        vertical-align: top;\n",
       "    }\n",
       "\n",
       "    .dataframe thead th {\n",
       "        text-align: right;\n",
       "    }\n",
       "</style>\n",
       "<table border=\"1\" class=\"dataframe\">\n",
       "  <thead>\n",
       "    <tr style=\"text-align: right;\">\n",
       "      <th></th>\n",
       "      <th>prod_cat_code</th>\n",
       "      <th>prod_cat</th>\n",
       "      <th>prod_sub_cat_code</th>\n",
       "      <th>prod_subcat</th>\n",
       "    </tr>\n",
       "  </thead>\n",
       "  <tbody>\n",
       "    <tr>\n",
       "      <th>0</th>\n",
       "      <td>1</td>\n",
       "      <td>Clothing</td>\n",
       "      <td>4</td>\n",
       "      <td>Mens</td>\n",
       "    </tr>\n",
       "    <tr>\n",
       "      <th>1</th>\n",
       "      <td>1</td>\n",
       "      <td>Clothing</td>\n",
       "      <td>1</td>\n",
       "      <td>Women</td>\n",
       "    </tr>\n",
       "    <tr>\n",
       "      <th>2</th>\n",
       "      <td>1</td>\n",
       "      <td>Clothing</td>\n",
       "      <td>3</td>\n",
       "      <td>Kids</td>\n",
       "    </tr>\n",
       "    <tr>\n",
       "      <th>3</th>\n",
       "      <td>2</td>\n",
       "      <td>Footwear</td>\n",
       "      <td>1</td>\n",
       "      <td>Mens</td>\n",
       "    </tr>\n",
       "    <tr>\n",
       "      <th>4</th>\n",
       "      <td>2</td>\n",
       "      <td>Footwear</td>\n",
       "      <td>3</td>\n",
       "      <td>Women</td>\n",
       "    </tr>\n",
       "  </tbody>\n",
       "</table>\n",
       "</div>"
      ],
      "text/plain": [
       "   prod_cat_code  prod_cat  prod_sub_cat_code prod_subcat\n",
       "0              1  Clothing                  4        Mens\n",
       "1              1  Clothing                  1       Women\n",
       "2              1  Clothing                  3        Kids\n",
       "3              2  Footwear                  1        Mens\n",
       "4              2  Footwear                  3       Women"
      ]
     },
     "execution_count": 270,
     "metadata": {},
     "output_type": "execute_result"
    }
   ],
   "source": [
    "product_info.head()"
   ]
  },
  {
   "cell_type": "code",
   "execution_count": 271,
   "id": "57b3fdc0",
   "metadata": {},
   "outputs": [],
   "source": [
    "product_info.rename( columns={'prod_sub_cat_code':'prod_subcat_code'}, inplace=True)"
   ]
  },
  {
   "cell_type": "markdown",
   "id": "4ea28600",
   "metadata": {},
   "source": [
    "1. Merge the datasets Customers, Product Hierarchy and Transactions as Customer_Final.\n",
    "Ensure to keep all customers who have done transactions with us and select the join type accordingly."
   ]
  },
  {
   "cell_type": "code",
   "execution_count": 272,
   "id": "9ca75e80",
   "metadata": {},
   "outputs": [],
   "source": [
    "joined_data = pd.merge( left = customer, right = transaction, how = 'right',on  = 'cust_id')\n",
    "Customer_Final = pd.merge( left = joined_data, right = product_info, how = 'left', on = ['prod_cat_code','prod_subcat_code'])"
   ]
  },
  {
   "cell_type": "code",
   "execution_count": 273,
   "id": "7e77292f",
   "metadata": {},
   "outputs": [],
   "source": [
    "Customer_Final['DOB'] = pd.to_datetime(Customer_Final['DOB'])"
   ]
  },
  {
   "cell_type": "code",
   "execution_count": 274,
   "id": "65f4059e",
   "metadata": {},
   "outputs": [],
   "source": [
    "Customer_Final['tran_date'] = pd.to_datetime(Customer_Final['tran_date'])"
   ]
  },
  {
   "cell_type": "markdown",
   "id": "6f7e342c",
   "metadata": {},
   "source": [
    "2. Prepare a summary report for the merged data set.\n",
    "     a. Get the column names and their corresponding data types\n",
    "     b. Top/Bottom 10 observations\n",
    "     c. “Five-number summary” for continuous variables (min, Q1, median, Q3 and max)\n",
    "     d. Frequency tables for all the categorical variables"
   ]
  },
  {
   "cell_type": "markdown",
   "id": "040730bc",
   "metadata": {},
   "source": [
    "a. Get the column names and their corresponding data types "
   ]
  },
  {
   "cell_type": "code",
   "execution_count": 276,
   "id": "0eface61",
   "metadata": {},
   "outputs": [
    {
     "data": {
      "text/plain": [
       "cust_id                      int64\n",
       "DOB                 datetime64[ns]\n",
       "Gender                      object\n",
       "city_code                  float64\n",
       "transaction_id               int64\n",
       "tran_date           datetime64[ns]\n",
       "prod_subcat_code             int64\n",
       "prod_cat_code                int64\n",
       "Qty                          int64\n",
       "Rate                         int64\n",
       "Tax                        float64\n",
       "total_amt                  float64\n",
       "Store_type                  object\n",
       "prod_cat                    object\n",
       "prod_subcat                 object\n",
       "dtype: object"
      ]
     },
     "execution_count": 276,
     "metadata": {},
     "output_type": "execute_result"
    }
   ],
   "source": [
    "Customer_Final.dtypes"
   ]
  },
  {
   "cell_type": "markdown",
   "id": "4041a29d",
   "metadata": {},
   "source": [
    "b. Top 10 observations"
   ]
  },
  {
   "cell_type": "code",
   "execution_count": 277,
   "id": "a71327cd",
   "metadata": {},
   "outputs": [],
   "source": [
    "Customer_Final.loc[4, 'Qty' ] = 2\n",
    "Customer_Final.loc[4, 'Rate' ] = 791\n",
    "Customer_Final.loc[4, 'total_amt' ] = 1748.110"
   ]
  },
  {
   "cell_type": "code",
   "execution_count": 278,
   "id": "d9ac5a87",
   "metadata": {},
   "outputs": [
    {
     "data": {
      "text/html": [
       "<div>\n",
       "<style scoped>\n",
       "    .dataframe tbody tr th:only-of-type {\n",
       "        vertical-align: middle;\n",
       "    }\n",
       "\n",
       "    .dataframe tbody tr th {\n",
       "        vertical-align: top;\n",
       "    }\n",
       "\n",
       "    .dataframe thead th {\n",
       "        text-align: right;\n",
       "    }\n",
       "</style>\n",
       "<table border=\"1\" class=\"dataframe\">\n",
       "  <thead>\n",
       "    <tr style=\"text-align: right;\">\n",
       "      <th></th>\n",
       "      <th>cust_id</th>\n",
       "      <th>DOB</th>\n",
       "      <th>Gender</th>\n",
       "      <th>city_code</th>\n",
       "      <th>transaction_id</th>\n",
       "      <th>tran_date</th>\n",
       "      <th>prod_subcat_code</th>\n",
       "      <th>prod_cat_code</th>\n",
       "      <th>Qty</th>\n",
       "      <th>Rate</th>\n",
       "      <th>Tax</th>\n",
       "      <th>total_amt</th>\n",
       "      <th>Store_type</th>\n",
       "      <th>prod_cat</th>\n",
       "      <th>prod_subcat</th>\n",
       "    </tr>\n",
       "  </thead>\n",
       "  <tbody>\n",
       "    <tr>\n",
       "      <th>0</th>\n",
       "      <td>270351</td>\n",
       "      <td>1981-09-26</td>\n",
       "      <td>M</td>\n",
       "      <td>5.0</td>\n",
       "      <td>80712190438</td>\n",
       "      <td>2014-02-28</td>\n",
       "      <td>1</td>\n",
       "      <td>1</td>\n",
       "      <td>-5</td>\n",
       "      <td>-772</td>\n",
       "      <td>405.300</td>\n",
       "      <td>-4265.300</td>\n",
       "      <td>e-Shop</td>\n",
       "      <td>Clothing</td>\n",
       "      <td>Women</td>\n",
       "    </tr>\n",
       "    <tr>\n",
       "      <th>1</th>\n",
       "      <td>270384</td>\n",
       "      <td>1973-11-05</td>\n",
       "      <td>F</td>\n",
       "      <td>8.0</td>\n",
       "      <td>29258453508</td>\n",
       "      <td>2014-02-27</td>\n",
       "      <td>5</td>\n",
       "      <td>3</td>\n",
       "      <td>-5</td>\n",
       "      <td>-1497</td>\n",
       "      <td>785.925</td>\n",
       "      <td>-8270.925</td>\n",
       "      <td>e-Shop</td>\n",
       "      <td>Electronics</td>\n",
       "      <td>Computers</td>\n",
       "    </tr>\n",
       "    <tr>\n",
       "      <th>2</th>\n",
       "      <td>273420</td>\n",
       "      <td>1992-07-27</td>\n",
       "      <td>M</td>\n",
       "      <td>8.0</td>\n",
       "      <td>51750724947</td>\n",
       "      <td>2014-02-24</td>\n",
       "      <td>6</td>\n",
       "      <td>5</td>\n",
       "      <td>-2</td>\n",
       "      <td>-791</td>\n",
       "      <td>166.110</td>\n",
       "      <td>-1748.110</td>\n",
       "      <td>TeleShop</td>\n",
       "      <td>Books</td>\n",
       "      <td>DIY</td>\n",
       "    </tr>\n",
       "    <tr>\n",
       "      <th>3</th>\n",
       "      <td>271509</td>\n",
       "      <td>1981-08-06</td>\n",
       "      <td>M</td>\n",
       "      <td>3.0</td>\n",
       "      <td>93274880719</td>\n",
       "      <td>2014-02-24</td>\n",
       "      <td>11</td>\n",
       "      <td>6</td>\n",
       "      <td>-3</td>\n",
       "      <td>-1363</td>\n",
       "      <td>429.345</td>\n",
       "      <td>-4518.345</td>\n",
       "      <td>e-Shop</td>\n",
       "      <td>Home and kitchen</td>\n",
       "      <td>Bath</td>\n",
       "    </tr>\n",
       "    <tr>\n",
       "      <th>4</th>\n",
       "      <td>273420</td>\n",
       "      <td>1992-07-27</td>\n",
       "      <td>M</td>\n",
       "      <td>8.0</td>\n",
       "      <td>51750724947</td>\n",
       "      <td>2014-02-23</td>\n",
       "      <td>6</td>\n",
       "      <td>5</td>\n",
       "      <td>2</td>\n",
       "      <td>791</td>\n",
       "      <td>166.110</td>\n",
       "      <td>1748.110</td>\n",
       "      <td>TeleShop</td>\n",
       "      <td>Books</td>\n",
       "      <td>DIY</td>\n",
       "    </tr>\n",
       "    <tr>\n",
       "      <th>5</th>\n",
       "      <td>272357</td>\n",
       "      <td>1982-09-10</td>\n",
       "      <td>F</td>\n",
       "      <td>6.0</td>\n",
       "      <td>97439039119</td>\n",
       "      <td>2014-02-23</td>\n",
       "      <td>8</td>\n",
       "      <td>3</td>\n",
       "      <td>-2</td>\n",
       "      <td>-824</td>\n",
       "      <td>173.040</td>\n",
       "      <td>-1821.040</td>\n",
       "      <td>TeleShop</td>\n",
       "      <td>Electronics</td>\n",
       "      <td>Personal Appliances</td>\n",
       "    </tr>\n",
       "    <tr>\n",
       "      <th>6</th>\n",
       "      <td>273667</td>\n",
       "      <td>1981-05-29</td>\n",
       "      <td>M</td>\n",
       "      <td>9.0</td>\n",
       "      <td>45649838090</td>\n",
       "      <td>2014-02-22</td>\n",
       "      <td>11</td>\n",
       "      <td>6</td>\n",
       "      <td>-1</td>\n",
       "      <td>-1450</td>\n",
       "      <td>152.250</td>\n",
       "      <td>-1602.250</td>\n",
       "      <td>e-Shop</td>\n",
       "      <td>Home and kitchen</td>\n",
       "      <td>Bath</td>\n",
       "    </tr>\n",
       "    <tr>\n",
       "      <th>7</th>\n",
       "      <td>271489</td>\n",
       "      <td>1971-04-21</td>\n",
       "      <td>M</td>\n",
       "      <td>9.0</td>\n",
       "      <td>22643667930</td>\n",
       "      <td>2014-02-22</td>\n",
       "      <td>12</td>\n",
       "      <td>6</td>\n",
       "      <td>-1</td>\n",
       "      <td>-1225</td>\n",
       "      <td>128.625</td>\n",
       "      <td>-1353.625</td>\n",
       "      <td>TeleShop</td>\n",
       "      <td>Home and kitchen</td>\n",
       "      <td>Tools</td>\n",
       "    </tr>\n",
       "    <tr>\n",
       "      <th>8</th>\n",
       "      <td>275108</td>\n",
       "      <td>1971-04-11</td>\n",
       "      <td>F</td>\n",
       "      <td>8.0</td>\n",
       "      <td>79792372943</td>\n",
       "      <td>2014-02-22</td>\n",
       "      <td>3</td>\n",
       "      <td>1</td>\n",
       "      <td>-3</td>\n",
       "      <td>-908</td>\n",
       "      <td>286.020</td>\n",
       "      <td>-3010.020</td>\n",
       "      <td>MBR</td>\n",
       "      <td>Clothing</td>\n",
       "      <td>Kids</td>\n",
       "    </tr>\n",
       "    <tr>\n",
       "      <th>9</th>\n",
       "      <td>269014</td>\n",
       "      <td>1979-11-27</td>\n",
       "      <td>F</td>\n",
       "      <td>3.0</td>\n",
       "      <td>50076728598</td>\n",
       "      <td>2014-02-21</td>\n",
       "      <td>8</td>\n",
       "      <td>3</td>\n",
       "      <td>-4</td>\n",
       "      <td>-581</td>\n",
       "      <td>244.020</td>\n",
       "      <td>-2568.020</td>\n",
       "      <td>e-Shop</td>\n",
       "      <td>Electronics</td>\n",
       "      <td>Personal Appliances</td>\n",
       "    </tr>\n",
       "  </tbody>\n",
       "</table>\n",
       "</div>"
      ],
      "text/plain": [
       "   cust_id        DOB Gender  city_code  transaction_id  tran_date  \\\n",
       "0   270351 1981-09-26      M        5.0     80712190438 2014-02-28   \n",
       "1   270384 1973-11-05      F        8.0     29258453508 2014-02-27   \n",
       "2   273420 1992-07-27      M        8.0     51750724947 2014-02-24   \n",
       "3   271509 1981-08-06      M        3.0     93274880719 2014-02-24   \n",
       "4   273420 1992-07-27      M        8.0     51750724947 2014-02-23   \n",
       "5   272357 1982-09-10      F        6.0     97439039119 2014-02-23   \n",
       "6   273667 1981-05-29      M        9.0     45649838090 2014-02-22   \n",
       "7   271489 1971-04-21      M        9.0     22643667930 2014-02-22   \n",
       "8   275108 1971-04-11      F        8.0     79792372943 2014-02-22   \n",
       "9   269014 1979-11-27      F        3.0     50076728598 2014-02-21   \n",
       "\n",
       "   prod_subcat_code  prod_cat_code  Qty  Rate      Tax  total_amt Store_type  \\\n",
       "0                 1              1   -5  -772  405.300  -4265.300     e-Shop   \n",
       "1                 5              3   -5 -1497  785.925  -8270.925     e-Shop   \n",
       "2                 6              5   -2  -791  166.110  -1748.110   TeleShop   \n",
       "3                11              6   -3 -1363  429.345  -4518.345     e-Shop   \n",
       "4                 6              5    2   791  166.110   1748.110   TeleShop   \n",
       "5                 8              3   -2  -824  173.040  -1821.040   TeleShop   \n",
       "6                11              6   -1 -1450  152.250  -1602.250     e-Shop   \n",
       "7                12              6   -1 -1225  128.625  -1353.625   TeleShop   \n",
       "8                 3              1   -3  -908  286.020  -3010.020        MBR   \n",
       "9                 8              3   -4  -581  244.020  -2568.020     e-Shop   \n",
       "\n",
       "           prod_cat          prod_subcat  \n",
       "0          Clothing                Women  \n",
       "1       Electronics            Computers  \n",
       "2             Books                  DIY  \n",
       "3  Home and kitchen                 Bath  \n",
       "4             Books                  DIY  \n",
       "5       Electronics  Personal Appliances  \n",
       "6  Home and kitchen                 Bath  \n",
       "7  Home and kitchen                Tools  \n",
       "8          Clothing                 Kids  \n",
       "9       Electronics  Personal Appliances  "
      ]
     },
     "execution_count": 278,
     "metadata": {},
     "output_type": "execute_result"
    }
   ],
   "source": [
    "Customer_Final.head(10)"
   ]
  },
  {
   "cell_type": "markdown",
   "id": "8a4f3f42",
   "metadata": {},
   "source": [
    "b. Bottom 10 observations"
   ]
  },
  {
   "cell_type": "code",
   "execution_count": 279,
   "id": "c2471eba",
   "metadata": {},
   "outputs": [
    {
     "data": {
      "text/html": [
       "<div>\n",
       "<style scoped>\n",
       "    .dataframe tbody tr th:only-of-type {\n",
       "        vertical-align: middle;\n",
       "    }\n",
       "\n",
       "    .dataframe tbody tr th {\n",
       "        vertical-align: top;\n",
       "    }\n",
       "\n",
       "    .dataframe thead th {\n",
       "        text-align: right;\n",
       "    }\n",
       "</style>\n",
       "<table border=\"1\" class=\"dataframe\">\n",
       "  <thead>\n",
       "    <tr style=\"text-align: right;\">\n",
       "      <th></th>\n",
       "      <th>cust_id</th>\n",
       "      <th>DOB</th>\n",
       "      <th>Gender</th>\n",
       "      <th>city_code</th>\n",
       "      <th>transaction_id</th>\n",
       "      <th>tran_date</th>\n",
       "      <th>prod_subcat_code</th>\n",
       "      <th>prod_cat_code</th>\n",
       "      <th>Qty</th>\n",
       "      <th>Rate</th>\n",
       "      <th>Tax</th>\n",
       "      <th>total_amt</th>\n",
       "      <th>Store_type</th>\n",
       "      <th>prod_cat</th>\n",
       "      <th>prod_subcat</th>\n",
       "    </tr>\n",
       "  </thead>\n",
       "  <tbody>\n",
       "    <tr>\n",
       "      <th>23043</th>\n",
       "      <td>271982</td>\n",
       "      <td>1976-10-08</td>\n",
       "      <td>M</td>\n",
       "      <td>8.0</td>\n",
       "      <td>49882891062</td>\n",
       "      <td>2011-01-25</td>\n",
       "      <td>10</td>\n",
       "      <td>5</td>\n",
       "      <td>4</td>\n",
       "      <td>1330</td>\n",
       "      <td>558.600</td>\n",
       "      <td>5878.600</td>\n",
       "      <td>e-Shop</td>\n",
       "      <td>Books</td>\n",
       "      <td>Non-Fiction</td>\n",
       "    </tr>\n",
       "    <tr>\n",
       "      <th>23044</th>\n",
       "      <td>273982</td>\n",
       "      <td>1991-12-10</td>\n",
       "      <td>M</td>\n",
       "      <td>4.0</td>\n",
       "      <td>14787475597</td>\n",
       "      <td>2011-01-25</td>\n",
       "      <td>4</td>\n",
       "      <td>3</td>\n",
       "      <td>5</td>\n",
       "      <td>969</td>\n",
       "      <td>508.725</td>\n",
       "      <td>5353.725</td>\n",
       "      <td>e-Shop</td>\n",
       "      <td>Electronics</td>\n",
       "      <td>Mobiles</td>\n",
       "    </tr>\n",
       "    <tr>\n",
       "      <th>23045</th>\n",
       "      <td>273031</td>\n",
       "      <td>1980-01-17</td>\n",
       "      <td>F</td>\n",
       "      <td>8.0</td>\n",
       "      <td>50691119572</td>\n",
       "      <td>2011-01-25</td>\n",
       "      <td>6</td>\n",
       "      <td>5</td>\n",
       "      <td>1</td>\n",
       "      <td>1148</td>\n",
       "      <td>120.540</td>\n",
       "      <td>1268.540</td>\n",
       "      <td>TeleShop</td>\n",
       "      <td>Books</td>\n",
       "      <td>DIY</td>\n",
       "    </tr>\n",
       "    <tr>\n",
       "      <th>23046</th>\n",
       "      <td>272049</td>\n",
       "      <td>1975-06-28</td>\n",
       "      <td>F</td>\n",
       "      <td>6.0</td>\n",
       "      <td>40893803228</td>\n",
       "      <td>2011-01-25</td>\n",
       "      <td>11</td>\n",
       "      <td>6</td>\n",
       "      <td>3</td>\n",
       "      <td>1077</td>\n",
       "      <td>339.255</td>\n",
       "      <td>3570.255</td>\n",
       "      <td>e-Shop</td>\n",
       "      <td>Home and kitchen</td>\n",
       "      <td>Bath</td>\n",
       "    </tr>\n",
       "    <tr>\n",
       "      <th>23047</th>\n",
       "      <td>266866</td>\n",
       "      <td>1974-04-18</td>\n",
       "      <td>M</td>\n",
       "      <td>4.0</td>\n",
       "      <td>30856003613</td>\n",
       "      <td>2011-01-25</td>\n",
       "      <td>4</td>\n",
       "      <td>2</td>\n",
       "      <td>2</td>\n",
       "      <td>444</td>\n",
       "      <td>93.240</td>\n",
       "      <td>981.240</td>\n",
       "      <td>TeleShop</td>\n",
       "      <td>Footwear</td>\n",
       "      <td>Kids</td>\n",
       "    </tr>\n",
       "    <tr>\n",
       "      <th>23048</th>\n",
       "      <td>274550</td>\n",
       "      <td>1972-02-21</td>\n",
       "      <td>M</td>\n",
       "      <td>7.0</td>\n",
       "      <td>94340757522</td>\n",
       "      <td>2011-01-25</td>\n",
       "      <td>12</td>\n",
       "      <td>5</td>\n",
       "      <td>1</td>\n",
       "      <td>1264</td>\n",
       "      <td>132.720</td>\n",
       "      <td>1396.720</td>\n",
       "      <td>e-Shop</td>\n",
       "      <td>Books</td>\n",
       "      <td>Academic</td>\n",
       "    </tr>\n",
       "    <tr>\n",
       "      <th>23049</th>\n",
       "      <td>270022</td>\n",
       "      <td>1984-04-27</td>\n",
       "      <td>M</td>\n",
       "      <td>9.0</td>\n",
       "      <td>89780862956</td>\n",
       "      <td>2011-01-25</td>\n",
       "      <td>4</td>\n",
       "      <td>1</td>\n",
       "      <td>1</td>\n",
       "      <td>677</td>\n",
       "      <td>71.085</td>\n",
       "      <td>748.085</td>\n",
       "      <td>e-Shop</td>\n",
       "      <td>Clothing</td>\n",
       "      <td>Mens</td>\n",
       "    </tr>\n",
       "    <tr>\n",
       "      <th>23050</th>\n",
       "      <td>271020</td>\n",
       "      <td>1976-06-20</td>\n",
       "      <td>M</td>\n",
       "      <td>8.0</td>\n",
       "      <td>85115299378</td>\n",
       "      <td>2011-01-25</td>\n",
       "      <td>2</td>\n",
       "      <td>6</td>\n",
       "      <td>4</td>\n",
       "      <td>1052</td>\n",
       "      <td>441.840</td>\n",
       "      <td>4649.840</td>\n",
       "      <td>MBR</td>\n",
       "      <td>Home and kitchen</td>\n",
       "      <td>Furnishing</td>\n",
       "    </tr>\n",
       "    <tr>\n",
       "      <th>23051</th>\n",
       "      <td>270911</td>\n",
       "      <td>1970-05-22</td>\n",
       "      <td>M</td>\n",
       "      <td>2.0</td>\n",
       "      <td>72870271171</td>\n",
       "      <td>2011-01-25</td>\n",
       "      <td>11</td>\n",
       "      <td>5</td>\n",
       "      <td>3</td>\n",
       "      <td>1142</td>\n",
       "      <td>359.730</td>\n",
       "      <td>3785.730</td>\n",
       "      <td>TeleShop</td>\n",
       "      <td>Books</td>\n",
       "      <td>Children</td>\n",
       "    </tr>\n",
       "    <tr>\n",
       "      <th>23052</th>\n",
       "      <td>271961</td>\n",
       "      <td>1982-01-15</td>\n",
       "      <td>M</td>\n",
       "      <td>1.0</td>\n",
       "      <td>77960931771</td>\n",
       "      <td>2011-01-25</td>\n",
       "      <td>11</td>\n",
       "      <td>5</td>\n",
       "      <td>1</td>\n",
       "      <td>447</td>\n",
       "      <td>46.935</td>\n",
       "      <td>493.935</td>\n",
       "      <td>TeleShop</td>\n",
       "      <td>Books</td>\n",
       "      <td>Children</td>\n",
       "    </tr>\n",
       "  </tbody>\n",
       "</table>\n",
       "</div>"
      ],
      "text/plain": [
       "       cust_id        DOB Gender  city_code  transaction_id  tran_date  \\\n",
       "23043   271982 1976-10-08      M        8.0     49882891062 2011-01-25   \n",
       "23044   273982 1991-12-10      M        4.0     14787475597 2011-01-25   \n",
       "23045   273031 1980-01-17      F        8.0     50691119572 2011-01-25   \n",
       "23046   272049 1975-06-28      F        6.0     40893803228 2011-01-25   \n",
       "23047   266866 1974-04-18      M        4.0     30856003613 2011-01-25   \n",
       "23048   274550 1972-02-21      M        7.0     94340757522 2011-01-25   \n",
       "23049   270022 1984-04-27      M        9.0     89780862956 2011-01-25   \n",
       "23050   271020 1976-06-20      M        8.0     85115299378 2011-01-25   \n",
       "23051   270911 1970-05-22      M        2.0     72870271171 2011-01-25   \n",
       "23052   271961 1982-01-15      M        1.0     77960931771 2011-01-25   \n",
       "\n",
       "       prod_subcat_code  prod_cat_code  Qty  Rate      Tax  total_amt  \\\n",
       "23043                10              5    4  1330  558.600   5878.600   \n",
       "23044                 4              3    5   969  508.725   5353.725   \n",
       "23045                 6              5    1  1148  120.540   1268.540   \n",
       "23046                11              6    3  1077  339.255   3570.255   \n",
       "23047                 4              2    2   444   93.240    981.240   \n",
       "23048                12              5    1  1264  132.720   1396.720   \n",
       "23049                 4              1    1   677   71.085    748.085   \n",
       "23050                 2              6    4  1052  441.840   4649.840   \n",
       "23051                11              5    3  1142  359.730   3785.730   \n",
       "23052                11              5    1   447   46.935    493.935   \n",
       "\n",
       "      Store_type          prod_cat  prod_subcat  \n",
       "23043     e-Shop             Books  Non-Fiction  \n",
       "23044     e-Shop       Electronics      Mobiles  \n",
       "23045   TeleShop             Books          DIY  \n",
       "23046     e-Shop  Home and kitchen         Bath  \n",
       "23047   TeleShop          Footwear         Kids  \n",
       "23048     e-Shop             Books     Academic  \n",
       "23049     e-Shop          Clothing         Mens  \n",
       "23050        MBR  Home and kitchen   Furnishing  \n",
       "23051   TeleShop             Books     Children  \n",
       "23052   TeleShop             Books     Children  "
      ]
     },
     "execution_count": 279,
     "metadata": {},
     "output_type": "execute_result"
    }
   ],
   "source": [
    "Customer_Final.tail(10)"
   ]
  },
  {
   "cell_type": "markdown",
   "id": "88446faa",
   "metadata": {},
   "source": [
    "c. “Five-number summary” for continuous variables (min, Q1, median, Q3 and max)"
   ]
  },
  {
   "cell_type": "code",
   "execution_count": 280,
   "id": "cae4414e",
   "metadata": {},
   "outputs": [
    {
     "data": {
      "text/html": [
       "<div>\n",
       "<style scoped>\n",
       "    .dataframe tbody tr th:only-of-type {\n",
       "        vertical-align: middle;\n",
       "    }\n",
       "\n",
       "    .dataframe tbody tr th {\n",
       "        vertical-align: top;\n",
       "    }\n",
       "\n",
       "    .dataframe thead th {\n",
       "        text-align: right;\n",
       "    }\n",
       "</style>\n",
       "<table border=\"1\" class=\"dataframe\">\n",
       "  <thead>\n",
       "    <tr style=\"text-align: right;\">\n",
       "      <th></th>\n",
       "      <th>Qty</th>\n",
       "      <th>Rate</th>\n",
       "      <th>Tax</th>\n",
       "      <th>total_amt</th>\n",
       "    </tr>\n",
       "  </thead>\n",
       "  <tbody>\n",
       "    <tr>\n",
       "      <th>min</th>\n",
       "      <td>-5.0</td>\n",
       "      <td>-1499.0</td>\n",
       "      <td>7.350</td>\n",
       "      <td>-8270.925</td>\n",
       "    </tr>\n",
       "    <tr>\n",
       "      <th>25%</th>\n",
       "      <td>1.0</td>\n",
       "      <td>312.0</td>\n",
       "      <td>98.280</td>\n",
       "      <td>762.450</td>\n",
       "    </tr>\n",
       "    <tr>\n",
       "      <th>50%</th>\n",
       "      <td>3.0</td>\n",
       "      <td>710.0</td>\n",
       "      <td>199.080</td>\n",
       "      <td>1754.740</td>\n",
       "    </tr>\n",
       "    <tr>\n",
       "      <th>75%</th>\n",
       "      <td>4.0</td>\n",
       "      <td>1109.0</td>\n",
       "      <td>365.715</td>\n",
       "      <td>3569.150</td>\n",
       "    </tr>\n",
       "    <tr>\n",
       "      <th>max</th>\n",
       "      <td>5.0</td>\n",
       "      <td>1500.0</td>\n",
       "      <td>787.500</td>\n",
       "      <td>8287.500</td>\n",
       "    </tr>\n",
       "  </tbody>\n",
       "</table>\n",
       "</div>"
      ],
      "text/plain": [
       "     Qty    Rate      Tax  total_amt\n",
       "min -5.0 -1499.0    7.350  -8270.925\n",
       "25%  1.0   312.0   98.280    762.450\n",
       "50%  3.0   710.0  199.080   1754.740\n",
       "75%  4.0  1109.0  365.715   3569.150\n",
       "max  5.0  1500.0  787.500   8287.500"
      ]
     },
     "execution_count": 280,
     "metadata": {},
     "output_type": "execute_result"
    }
   ],
   "source": [
    "Customer_Final[['Qty','Rate','Tax','total_amt']].describe()[3:9]"
   ]
  },
  {
   "cell_type": "markdown",
   "id": "2eab28ef",
   "metadata": {},
   "source": [
    "d. Frequency tables for all the categorical variables:"
   ]
  },
  {
   "cell_type": "code",
   "execution_count": 281,
   "id": "eef25d79",
   "metadata": {},
   "outputs": [
    {
     "data": {
      "text/html": [
       "<div>\n",
       "<style scoped>\n",
       "    .dataframe tbody tr th:only-of-type {\n",
       "        vertical-align: middle;\n",
       "    }\n",
       "\n",
       "    .dataframe tbody tr th {\n",
       "        vertical-align: top;\n",
       "    }\n",
       "\n",
       "    .dataframe thead th {\n",
       "        text-align: right;\n",
       "    }\n",
       "</style>\n",
       "<table border=\"1\" class=\"dataframe\">\n",
       "  <thead>\n",
       "    <tr style=\"text-align: right;\">\n",
       "      <th>col_0</th>\n",
       "      <th>count</th>\n",
       "    </tr>\n",
       "    <tr>\n",
       "      <th>cust_id</th>\n",
       "      <th></th>\n",
       "    </tr>\n",
       "  </thead>\n",
       "  <tbody>\n",
       "    <tr>\n",
       "      <th>266783</th>\n",
       "      <td>5</td>\n",
       "    </tr>\n",
       "    <tr>\n",
       "      <th>266784</th>\n",
       "      <td>3</td>\n",
       "    </tr>\n",
       "    <tr>\n",
       "      <th>266785</th>\n",
       "      <td>8</td>\n",
       "    </tr>\n",
       "    <tr>\n",
       "      <th>266788</th>\n",
       "      <td>4</td>\n",
       "    </tr>\n",
       "    <tr>\n",
       "      <th>266794</th>\n",
       "      <td>12</td>\n",
       "    </tr>\n",
       "    <tr>\n",
       "      <th>...</th>\n",
       "      <td>...</td>\n",
       "    </tr>\n",
       "    <tr>\n",
       "      <th>275257</th>\n",
       "      <td>5</td>\n",
       "    </tr>\n",
       "    <tr>\n",
       "      <th>275261</th>\n",
       "      <td>5</td>\n",
       "    </tr>\n",
       "    <tr>\n",
       "      <th>275262</th>\n",
       "      <td>2</td>\n",
       "    </tr>\n",
       "    <tr>\n",
       "      <th>275264</th>\n",
       "      <td>2</td>\n",
       "    </tr>\n",
       "    <tr>\n",
       "      <th>275265</th>\n",
       "      <td>3</td>\n",
       "    </tr>\n",
       "  </tbody>\n",
       "</table>\n",
       "<p>5506 rows × 1 columns</p>\n",
       "</div>"
      ],
      "text/plain": [
       "col_0    count\n",
       "cust_id       \n",
       "266783       5\n",
       "266784       3\n",
       "266785       8\n",
       "266788       4\n",
       "266794      12\n",
       "...        ...\n",
       "275257       5\n",
       "275261       5\n",
       "275262       2\n",
       "275264       2\n",
       "275265       3\n",
       "\n",
       "[5506 rows x 1 columns]"
      ]
     },
     "execution_count": 281,
     "metadata": {},
     "output_type": "execute_result"
    }
   ],
   "source": [
    "Cust_Id = pd.crosstab (index = Customer_Final['cust_id'], columns='count')\n",
    "Cust_Id"
   ]
  },
  {
   "cell_type": "code",
   "execution_count": 282,
   "id": "7a53d111",
   "metadata": {},
   "outputs": [
    {
     "data": {
      "text/html": [
       "<div>\n",
       "<style scoped>\n",
       "    .dataframe tbody tr th:only-of-type {\n",
       "        vertical-align: middle;\n",
       "    }\n",
       "\n",
       "    .dataframe tbody tr th {\n",
       "        vertical-align: top;\n",
       "    }\n",
       "\n",
       "    .dataframe thead th {\n",
       "        text-align: right;\n",
       "    }\n",
       "</style>\n",
       "<table border=\"1\" class=\"dataframe\">\n",
       "  <thead>\n",
       "    <tr style=\"text-align: right;\">\n",
       "      <th>col_0</th>\n",
       "      <th>count</th>\n",
       "    </tr>\n",
       "    <tr>\n",
       "      <th>DOB</th>\n",
       "      <th></th>\n",
       "    </tr>\n",
       "  </thead>\n",
       "  <tbody>\n",
       "    <tr>\n",
       "      <th>1970-01-02</th>\n",
       "      <td>17</td>\n",
       "    </tr>\n",
       "    <tr>\n",
       "      <th>1970-01-04</th>\n",
       "      <td>8</td>\n",
       "    </tr>\n",
       "    <tr>\n",
       "      <th>1970-01-06</th>\n",
       "      <td>10</td>\n",
       "    </tr>\n",
       "    <tr>\n",
       "      <th>1970-01-07</th>\n",
       "      <td>3</td>\n",
       "    </tr>\n",
       "    <tr>\n",
       "      <th>1970-01-09</th>\n",
       "      <td>6</td>\n",
       "    </tr>\n",
       "    <tr>\n",
       "      <th>...</th>\n",
       "      <td>...</td>\n",
       "    </tr>\n",
       "    <tr>\n",
       "      <th>1992-12-19</th>\n",
       "      <td>3</td>\n",
       "    </tr>\n",
       "    <tr>\n",
       "      <th>1992-12-24</th>\n",
       "      <td>5</td>\n",
       "    </tr>\n",
       "    <tr>\n",
       "      <th>1992-12-25</th>\n",
       "      <td>5</td>\n",
       "    </tr>\n",
       "    <tr>\n",
       "      <th>1992-12-27</th>\n",
       "      <td>2</td>\n",
       "    </tr>\n",
       "    <tr>\n",
       "      <th>1992-12-29</th>\n",
       "      <td>3</td>\n",
       "    </tr>\n",
       "  </tbody>\n",
       "</table>\n",
       "<p>3987 rows × 1 columns</p>\n",
       "</div>"
      ],
      "text/plain": [
       "col_0       count\n",
       "DOB              \n",
       "1970-01-02     17\n",
       "1970-01-04      8\n",
       "1970-01-06     10\n",
       "1970-01-07      3\n",
       "1970-01-09      6\n",
       "...           ...\n",
       "1992-12-19      3\n",
       "1992-12-24      5\n",
       "1992-12-25      5\n",
       "1992-12-27      2\n",
       "1992-12-29      3\n",
       "\n",
       "[3987 rows x 1 columns]"
      ]
     },
     "execution_count": 282,
     "metadata": {},
     "output_type": "execute_result"
    }
   ],
   "source": [
    "DateofBirth =pd.crosstab (index = Customer_Final['DOB'], columns='count')\n",
    "DateofBirth"
   ]
  },
  {
   "cell_type": "code",
   "execution_count": 283,
   "id": "58224d08",
   "metadata": {},
   "outputs": [
    {
     "data": {
      "text/html": [
       "<div>\n",
       "<style scoped>\n",
       "    .dataframe tbody tr th:only-of-type {\n",
       "        vertical-align: middle;\n",
       "    }\n",
       "\n",
       "    .dataframe tbody tr th {\n",
       "        vertical-align: top;\n",
       "    }\n",
       "\n",
       "    .dataframe thead th {\n",
       "        text-align: right;\n",
       "    }\n",
       "</style>\n",
       "<table border=\"1\" class=\"dataframe\">\n",
       "  <thead>\n",
       "    <tr style=\"text-align: right;\">\n",
       "      <th>col_0</th>\n",
       "      <th>count</th>\n",
       "    </tr>\n",
       "    <tr>\n",
       "      <th>Gender</th>\n",
       "      <th></th>\n",
       "    </tr>\n",
       "  </thead>\n",
       "  <tbody>\n",
       "    <tr>\n",
       "      <th>F</th>\n",
       "      <td>11233</td>\n",
       "    </tr>\n",
       "    <tr>\n",
       "      <th>M</th>\n",
       "      <td>11811</td>\n",
       "    </tr>\n",
       "  </tbody>\n",
       "</table>\n",
       "</div>"
      ],
      "text/plain": [
       "col_0   count\n",
       "Gender       \n",
       "F       11233\n",
       "M       11811"
      ]
     },
     "execution_count": 283,
     "metadata": {},
     "output_type": "execute_result"
    }
   ],
   "source": [
    "Gender = pd.crosstab (index = Customer_Final[ 'Gender'], columns='count')\n",
    "Gender"
   ]
  },
  {
   "cell_type": "code",
   "execution_count": 284,
   "id": "d124410a",
   "metadata": {},
   "outputs": [
    {
     "data": {
      "text/html": [
       "<div>\n",
       "<style scoped>\n",
       "    .dataframe tbody tr th:only-of-type {\n",
       "        vertical-align: middle;\n",
       "    }\n",
       "\n",
       "    .dataframe tbody tr th {\n",
       "        vertical-align: top;\n",
       "    }\n",
       "\n",
       "    .dataframe thead th {\n",
       "        text-align: right;\n",
       "    }\n",
       "</style>\n",
       "<table border=\"1\" class=\"dataframe\">\n",
       "  <thead>\n",
       "    <tr style=\"text-align: right;\">\n",
       "      <th>col_0</th>\n",
       "      <th>count</th>\n",
       "    </tr>\n",
       "    <tr>\n",
       "      <th>city_code</th>\n",
       "      <th></th>\n",
       "    </tr>\n",
       "  </thead>\n",
       "  <tbody>\n",
       "    <tr>\n",
       "      <th>1.0</th>\n",
       "      <td>2258</td>\n",
       "    </tr>\n",
       "    <tr>\n",
       "      <th>2.0</th>\n",
       "      <td>2270</td>\n",
       "    </tr>\n",
       "    <tr>\n",
       "      <th>3.0</th>\n",
       "      <td>2411</td>\n",
       "    </tr>\n",
       "    <tr>\n",
       "      <th>4.0</th>\n",
       "      <td>2422</td>\n",
       "    </tr>\n",
       "    <tr>\n",
       "      <th>5.0</th>\n",
       "      <td>2360</td>\n",
       "    </tr>\n",
       "    <tr>\n",
       "      <th>6.0</th>\n",
       "      <td>2127</td>\n",
       "    </tr>\n",
       "    <tr>\n",
       "      <th>7.0</th>\n",
       "      <td>2356</td>\n",
       "    </tr>\n",
       "    <tr>\n",
       "      <th>8.0</th>\n",
       "      <td>2330</td>\n",
       "    </tr>\n",
       "    <tr>\n",
       "      <th>9.0</th>\n",
       "      <td>2178</td>\n",
       "    </tr>\n",
       "    <tr>\n",
       "      <th>10.0</th>\n",
       "      <td>2333</td>\n",
       "    </tr>\n",
       "  </tbody>\n",
       "</table>\n",
       "</div>"
      ],
      "text/plain": [
       "col_0      count\n",
       "city_code       \n",
       "1.0         2258\n",
       "2.0         2270\n",
       "3.0         2411\n",
       "4.0         2422\n",
       "5.0         2360\n",
       "6.0         2127\n",
       "7.0         2356\n",
       "8.0         2330\n",
       "9.0         2178\n",
       "10.0        2333"
      ]
     },
     "execution_count": 284,
     "metadata": {},
     "output_type": "execute_result"
    }
   ],
   "source": [
    "Citycode = pd.crosstab (index = Customer_Final['city_code'], columns='count')\n",
    "Citycode"
   ]
  },
  {
   "cell_type": "code",
   "execution_count": 285,
   "id": "871f9c06",
   "metadata": {},
   "outputs": [
    {
     "data": {
      "text/html": [
       "<div>\n",
       "<style scoped>\n",
       "    .dataframe tbody tr th:only-of-type {\n",
       "        vertical-align: middle;\n",
       "    }\n",
       "\n",
       "    .dataframe tbody tr th {\n",
       "        vertical-align: top;\n",
       "    }\n",
       "\n",
       "    .dataframe thead th {\n",
       "        text-align: right;\n",
       "    }\n",
       "</style>\n",
       "<table border=\"1\" class=\"dataframe\">\n",
       "  <thead>\n",
       "    <tr style=\"text-align: right;\">\n",
       "      <th>col_0</th>\n",
       "      <th>count</th>\n",
       "    </tr>\n",
       "    <tr>\n",
       "      <th>transaction_id</th>\n",
       "      <th></th>\n",
       "    </tr>\n",
       "  </thead>\n",
       "  <tbody>\n",
       "    <tr>\n",
       "      <th>3268991</th>\n",
       "      <td>1</td>\n",
       "    </tr>\n",
       "    <tr>\n",
       "      <th>7073244</th>\n",
       "      <td>1</td>\n",
       "    </tr>\n",
       "    <tr>\n",
       "      <th>10861359</th>\n",
       "      <td>1</td>\n",
       "    </tr>\n",
       "    <tr>\n",
       "      <th>15741026</th>\n",
       "      <td>1</td>\n",
       "    </tr>\n",
       "    <tr>\n",
       "      <th>16165359</th>\n",
       "      <td>1</td>\n",
       "    </tr>\n",
       "    <tr>\n",
       "      <th>...</th>\n",
       "      <td>...</td>\n",
       "    </tr>\n",
       "    <tr>\n",
       "      <th>99963516507</th>\n",
       "      <td>2</td>\n",
       "    </tr>\n",
       "    <tr>\n",
       "      <th>99967775192</th>\n",
       "      <td>1</td>\n",
       "    </tr>\n",
       "    <tr>\n",
       "      <th>99985121471</th>\n",
       "      <td>1</td>\n",
       "    </tr>\n",
       "    <tr>\n",
       "      <th>99986751618</th>\n",
       "      <td>2</td>\n",
       "    </tr>\n",
       "    <tr>\n",
       "      <th>99987549630</th>\n",
       "      <td>1</td>\n",
       "    </tr>\n",
       "  </tbody>\n",
       "</table>\n",
       "<p>20878 rows × 1 columns</p>\n",
       "</div>"
      ],
      "text/plain": [
       "col_0           count\n",
       "transaction_id       \n",
       "3268991             1\n",
       "7073244             1\n",
       "10861359            1\n",
       "15741026            1\n",
       "16165359            1\n",
       "...               ...\n",
       "99963516507         2\n",
       "99967775192         1\n",
       "99985121471         1\n",
       "99986751618         2\n",
       "99987549630         1\n",
       "\n",
       "[20878 rows x 1 columns]"
      ]
     },
     "execution_count": 285,
     "metadata": {},
     "output_type": "execute_result"
    }
   ],
   "source": [
    "Transactions = pd.crosstab (index = Customer_Final['transaction_id'], columns='count')\n",
    "Transactions"
   ]
  },
  {
   "cell_type": "code",
   "execution_count": 286,
   "id": "7d2a2230",
   "metadata": {},
   "outputs": [
    {
     "data": {
      "text/html": [
       "<div>\n",
       "<style scoped>\n",
       "    .dataframe tbody tr th:only-of-type {\n",
       "        vertical-align: middle;\n",
       "    }\n",
       "\n",
       "    .dataframe tbody tr th {\n",
       "        vertical-align: top;\n",
       "    }\n",
       "\n",
       "    .dataframe thead th {\n",
       "        text-align: right;\n",
       "    }\n",
       "</style>\n",
       "<table border=\"1\" class=\"dataframe\">\n",
       "  <thead>\n",
       "    <tr style=\"text-align: right;\">\n",
       "      <th>col_0</th>\n",
       "      <th>count</th>\n",
       "    </tr>\n",
       "    <tr>\n",
       "      <th>tran_date</th>\n",
       "      <th></th>\n",
       "    </tr>\n",
       "  </thead>\n",
       "  <tbody>\n",
       "    <tr>\n",
       "      <th>2011-01-02</th>\n",
       "      <td>27</td>\n",
       "    </tr>\n",
       "    <tr>\n",
       "      <th>2011-01-03</th>\n",
       "      <td>16</td>\n",
       "    </tr>\n",
       "    <tr>\n",
       "      <th>2011-01-04</th>\n",
       "      <td>23</td>\n",
       "    </tr>\n",
       "    <tr>\n",
       "      <th>2011-01-05</th>\n",
       "      <td>23</td>\n",
       "    </tr>\n",
       "    <tr>\n",
       "      <th>2011-01-06</th>\n",
       "      <td>18</td>\n",
       "    </tr>\n",
       "    <tr>\n",
       "      <th>...</th>\n",
       "      <td>...</td>\n",
       "    </tr>\n",
       "    <tr>\n",
       "      <th>2014-10-02</th>\n",
       "      <td>18</td>\n",
       "    </tr>\n",
       "    <tr>\n",
       "      <th>2014-11-01</th>\n",
       "      <td>21</td>\n",
       "    </tr>\n",
       "    <tr>\n",
       "      <th>2014-11-02</th>\n",
       "      <td>20</td>\n",
       "    </tr>\n",
       "    <tr>\n",
       "      <th>2014-12-01</th>\n",
       "      <td>27</td>\n",
       "    </tr>\n",
       "    <tr>\n",
       "      <th>2014-12-02</th>\n",
       "      <td>19</td>\n",
       "    </tr>\n",
       "  </tbody>\n",
       "</table>\n",
       "<p>1129 rows × 1 columns</p>\n",
       "</div>"
      ],
      "text/plain": [
       "col_0       count\n",
       "tran_date        \n",
       "2011-01-02     27\n",
       "2011-01-03     16\n",
       "2011-01-04     23\n",
       "2011-01-05     23\n",
       "2011-01-06     18\n",
       "...           ...\n",
       "2014-10-02     18\n",
       "2014-11-01     21\n",
       "2014-11-02     20\n",
       "2014-12-01     27\n",
       "2014-12-02     19\n",
       "\n",
       "[1129 rows x 1 columns]"
      ]
     },
     "execution_count": 286,
     "metadata": {},
     "output_type": "execute_result"
    }
   ],
   "source": [
    "TransDate = pd.crosstab (index = Customer_Final[ 'tran_date'], columns='count')\n",
    "TransDate"
   ]
  },
  {
   "cell_type": "code",
   "execution_count": 287,
   "id": "f3bfffea",
   "metadata": {},
   "outputs": [
    {
     "data": {
      "text/html": [
       "<div>\n",
       "<style scoped>\n",
       "    .dataframe tbody tr th:only-of-type {\n",
       "        vertical-align: middle;\n",
       "    }\n",
       "\n",
       "    .dataframe tbody tr th {\n",
       "        vertical-align: top;\n",
       "    }\n",
       "\n",
       "    .dataframe thead th {\n",
       "        text-align: right;\n",
       "    }\n",
       "</style>\n",
       "<table border=\"1\" class=\"dataframe\">\n",
       "  <thead>\n",
       "    <tr style=\"text-align: right;\">\n",
       "      <th>col_0</th>\n",
       "      <th>count</th>\n",
       "    </tr>\n",
       "    <tr>\n",
       "      <th>prod_subcat_code</th>\n",
       "      <th></th>\n",
       "    </tr>\n",
       "  </thead>\n",
       "  <tbody>\n",
       "    <tr>\n",
       "      <th>1</th>\n",
       "      <td>2950</td>\n",
       "    </tr>\n",
       "    <tr>\n",
       "      <th>2</th>\n",
       "      <td>1007</td>\n",
       "    </tr>\n",
       "    <tr>\n",
       "      <th>3</th>\n",
       "      <td>3067</td>\n",
       "    </tr>\n",
       "    <tr>\n",
       "      <th>4</th>\n",
       "      <td>4002</td>\n",
       "    </tr>\n",
       "    <tr>\n",
       "      <th>5</th>\n",
       "      <td>958</td>\n",
       "    </tr>\n",
       "    <tr>\n",
       "      <th>6</th>\n",
       "      <td>989</td>\n",
       "    </tr>\n",
       "    <tr>\n",
       "      <th>7</th>\n",
       "      <td>1043</td>\n",
       "    </tr>\n",
       "    <tr>\n",
       "      <th>8</th>\n",
       "      <td>972</td>\n",
       "    </tr>\n",
       "    <tr>\n",
       "      <th>9</th>\n",
       "      <td>985</td>\n",
       "    </tr>\n",
       "    <tr>\n",
       "      <th>10</th>\n",
       "      <td>2993</td>\n",
       "    </tr>\n",
       "    <tr>\n",
       "      <th>11</th>\n",
       "      <td>2058</td>\n",
       "    </tr>\n",
       "    <tr>\n",
       "      <th>12</th>\n",
       "      <td>2029</td>\n",
       "    </tr>\n",
       "  </tbody>\n",
       "</table>\n",
       "</div>"
      ],
      "text/plain": [
       "col_0             count\n",
       "prod_subcat_code       \n",
       "1                  2950\n",
       "2                  1007\n",
       "3                  3067\n",
       "4                  4002\n",
       "5                   958\n",
       "6                   989\n",
       "7                  1043\n",
       "8                   972\n",
       "9                   985\n",
       "10                 2993\n",
       "11                 2058\n",
       "12                 2029"
      ]
     },
     "execution_count": 287,
     "metadata": {},
     "output_type": "execute_result"
    }
   ],
   "source": [
    "Prodsubcatcode = pd.crosstab (index = Customer_Final['prod_subcat_code'], columns='count')\n",
    "Prodsubcatcode"
   ]
  },
  {
   "cell_type": "code",
   "execution_count": 288,
   "id": "5ef06c30",
   "metadata": {},
   "outputs": [
    {
     "data": {
      "text/html": [
       "<div>\n",
       "<style scoped>\n",
       "    .dataframe tbody tr th:only-of-type {\n",
       "        vertical-align: middle;\n",
       "    }\n",
       "\n",
       "    .dataframe tbody tr th {\n",
       "        vertical-align: top;\n",
       "    }\n",
       "\n",
       "    .dataframe thead th {\n",
       "        text-align: right;\n",
       "    }\n",
       "</style>\n",
       "<table border=\"1\" class=\"dataframe\">\n",
       "  <thead>\n",
       "    <tr style=\"text-align: right;\">\n",
       "      <th>col_0</th>\n",
       "      <th>count</th>\n",
       "    </tr>\n",
       "    <tr>\n",
       "      <th>prod_cat_code</th>\n",
       "      <th></th>\n",
       "    </tr>\n",
       "  </thead>\n",
       "  <tbody>\n",
       "    <tr>\n",
       "      <th>1</th>\n",
       "      <td>2960</td>\n",
       "    </tr>\n",
       "    <tr>\n",
       "      <th>2</th>\n",
       "      <td>2999</td>\n",
       "    </tr>\n",
       "    <tr>\n",
       "      <th>3</th>\n",
       "      <td>4898</td>\n",
       "    </tr>\n",
       "    <tr>\n",
       "      <th>4</th>\n",
       "      <td>1998</td>\n",
       "    </tr>\n",
       "    <tr>\n",
       "      <th>5</th>\n",
       "      <td>6069</td>\n",
       "    </tr>\n",
       "    <tr>\n",
       "      <th>6</th>\n",
       "      <td>4129</td>\n",
       "    </tr>\n",
       "  </tbody>\n",
       "</table>\n",
       "</div>"
      ],
      "text/plain": [
       "col_0          count\n",
       "prod_cat_code       \n",
       "1               2960\n",
       "2               2999\n",
       "3               4898\n",
       "4               1998\n",
       "5               6069\n",
       "6               4129"
      ]
     },
     "execution_count": 288,
     "metadata": {},
     "output_type": "execute_result"
    }
   ],
   "source": [
    "Prodcatcode = pd.crosstab (index = Customer_Final['prod_cat_code'], columns='count')\n",
    "Prodcatcode"
   ]
  },
  {
   "cell_type": "code",
   "execution_count": 289,
   "id": "1baf37fb",
   "metadata": {},
   "outputs": [
    {
     "data": {
      "text/html": [
       "<div>\n",
       "<style scoped>\n",
       "    .dataframe tbody tr th:only-of-type {\n",
       "        vertical-align: middle;\n",
       "    }\n",
       "\n",
       "    .dataframe tbody tr th {\n",
       "        vertical-align: top;\n",
       "    }\n",
       "\n",
       "    .dataframe thead th {\n",
       "        text-align: right;\n",
       "    }\n",
       "</style>\n",
       "<table border=\"1\" class=\"dataframe\">\n",
       "  <thead>\n",
       "    <tr style=\"text-align: right;\">\n",
       "      <th>col_0</th>\n",
       "      <th>count</th>\n",
       "    </tr>\n",
       "    <tr>\n",
       "      <th>Store_type</th>\n",
       "      <th></th>\n",
       "    </tr>\n",
       "  </thead>\n",
       "  <tbody>\n",
       "    <tr>\n",
       "      <th>Flagship store</th>\n",
       "      <td>4577</td>\n",
       "    </tr>\n",
       "    <tr>\n",
       "      <th>MBR</th>\n",
       "      <td>4661</td>\n",
       "    </tr>\n",
       "    <tr>\n",
       "      <th>TeleShop</th>\n",
       "      <td>4504</td>\n",
       "    </tr>\n",
       "    <tr>\n",
       "      <th>e-Shop</th>\n",
       "      <td>9311</td>\n",
       "    </tr>\n",
       "  </tbody>\n",
       "</table>\n",
       "</div>"
      ],
      "text/plain": [
       "col_0           count\n",
       "Store_type           \n",
       "Flagship store   4577\n",
       "MBR              4661\n",
       "TeleShop         4504\n",
       "e-Shop           9311"
      ]
     },
     "execution_count": 289,
     "metadata": {},
     "output_type": "execute_result"
    }
   ],
   "source": [
    "Storetype = pd.crosstab (index = Customer_Final['Store_type'], columns='count')\n",
    "Storetype"
   ]
  },
  {
   "cell_type": "code",
   "execution_count": 290,
   "id": "36749918",
   "metadata": {},
   "outputs": [
    {
     "data": {
      "text/html": [
       "<div>\n",
       "<style scoped>\n",
       "    .dataframe tbody tr th:only-of-type {\n",
       "        vertical-align: middle;\n",
       "    }\n",
       "\n",
       "    .dataframe tbody tr th {\n",
       "        vertical-align: top;\n",
       "    }\n",
       "\n",
       "    .dataframe thead th {\n",
       "        text-align: right;\n",
       "    }\n",
       "</style>\n",
       "<table border=\"1\" class=\"dataframe\">\n",
       "  <thead>\n",
       "    <tr style=\"text-align: right;\">\n",
       "      <th>col_0</th>\n",
       "      <th>count</th>\n",
       "    </tr>\n",
       "    <tr>\n",
       "      <th>prod_cat</th>\n",
       "      <th></th>\n",
       "    </tr>\n",
       "  </thead>\n",
       "  <tbody>\n",
       "    <tr>\n",
       "      <th>Bags</th>\n",
       "      <td>1998</td>\n",
       "    </tr>\n",
       "    <tr>\n",
       "      <th>Books</th>\n",
       "      <td>6069</td>\n",
       "    </tr>\n",
       "    <tr>\n",
       "      <th>Clothing</th>\n",
       "      <td>2960</td>\n",
       "    </tr>\n",
       "    <tr>\n",
       "      <th>Electronics</th>\n",
       "      <td>4898</td>\n",
       "    </tr>\n",
       "    <tr>\n",
       "      <th>Footwear</th>\n",
       "      <td>2999</td>\n",
       "    </tr>\n",
       "    <tr>\n",
       "      <th>Home and kitchen</th>\n",
       "      <td>4129</td>\n",
       "    </tr>\n",
       "  </tbody>\n",
       "</table>\n",
       "</div>"
      ],
      "text/plain": [
       "col_0             count\n",
       "prod_cat               \n",
       "Bags               1998\n",
       "Books              6069\n",
       "Clothing           2960\n",
       "Electronics        4898\n",
       "Footwear           2999\n",
       "Home and kitchen   4129"
      ]
     },
     "execution_count": 290,
     "metadata": {},
     "output_type": "execute_result"
    }
   ],
   "source": [
    "Prodcat = pd.crosstab (index = Customer_Final[ 'prod_cat'], columns='count')\n",
    "Prodcat"
   ]
  },
  {
   "cell_type": "code",
   "execution_count": 291,
   "id": "baf93893",
   "metadata": {},
   "outputs": [
    {
     "data": {
      "text/html": [
       "<div>\n",
       "<style scoped>\n",
       "    .dataframe tbody tr th:only-of-type {\n",
       "        vertical-align: middle;\n",
       "    }\n",
       "\n",
       "    .dataframe tbody tr th {\n",
       "        vertical-align: top;\n",
       "    }\n",
       "\n",
       "    .dataframe thead th {\n",
       "        text-align: right;\n",
       "    }\n",
       "</style>\n",
       "<table border=\"1\" class=\"dataframe\">\n",
       "  <thead>\n",
       "    <tr style=\"text-align: right;\">\n",
       "      <th>col_0</th>\n",
       "      <th>count</th>\n",
       "    </tr>\n",
       "    <tr>\n",
       "      <th>prod_subcat</th>\n",
       "      <th></th>\n",
       "    </tr>\n",
       "  </thead>\n",
       "  <tbody>\n",
       "    <tr>\n",
       "      <th>Academic</th>\n",
       "      <td>967</td>\n",
       "    </tr>\n",
       "    <tr>\n",
       "      <th>Audio and video</th>\n",
       "      <td>952</td>\n",
       "    </tr>\n",
       "    <tr>\n",
       "      <th>Bath</th>\n",
       "      <td>1023</td>\n",
       "    </tr>\n",
       "    <tr>\n",
       "      <th>Cameras</th>\n",
       "      <td>985</td>\n",
       "    </tr>\n",
       "    <tr>\n",
       "      <th>Children</th>\n",
       "      <td>1035</td>\n",
       "    </tr>\n",
       "    <tr>\n",
       "      <th>Comics</th>\n",
       "      <td>1031</td>\n",
       "    </tr>\n",
       "    <tr>\n",
       "      <th>Computers</th>\n",
       "      <td>958</td>\n",
       "    </tr>\n",
       "    <tr>\n",
       "      <th>DIY</th>\n",
       "      <td>989</td>\n",
       "    </tr>\n",
       "    <tr>\n",
       "      <th>Fiction</th>\n",
       "      <td>1043</td>\n",
       "    </tr>\n",
       "    <tr>\n",
       "      <th>Furnishing</th>\n",
       "      <td>1007</td>\n",
       "    </tr>\n",
       "    <tr>\n",
       "      <th>Kids</th>\n",
       "      <td>1997</td>\n",
       "    </tr>\n",
       "    <tr>\n",
       "      <th>Kitchen</th>\n",
       "      <td>1037</td>\n",
       "    </tr>\n",
       "    <tr>\n",
       "      <th>Mens</th>\n",
       "      <td>2912</td>\n",
       "    </tr>\n",
       "    <tr>\n",
       "      <th>Mobiles</th>\n",
       "      <td>1031</td>\n",
       "    </tr>\n",
       "    <tr>\n",
       "      <th>Non-Fiction</th>\n",
       "      <td>1004</td>\n",
       "    </tr>\n",
       "    <tr>\n",
       "      <th>Personal Appliances</th>\n",
       "      <td>972</td>\n",
       "    </tr>\n",
       "    <tr>\n",
       "      <th>Tools</th>\n",
       "      <td>1062</td>\n",
       "    </tr>\n",
       "    <tr>\n",
       "      <th>Women</th>\n",
       "      <td>3048</td>\n",
       "    </tr>\n",
       "  </tbody>\n",
       "</table>\n",
       "</div>"
      ],
      "text/plain": [
       "col_0                count\n",
       "prod_subcat               \n",
       "Academic               967\n",
       "Audio and video        952\n",
       "Bath                  1023\n",
       "Cameras                985\n",
       "Children              1035\n",
       "Comics                1031\n",
       "Computers              958\n",
       "DIY                    989\n",
       "Fiction               1043\n",
       "Furnishing            1007\n",
       "Kids                  1997\n",
       "Kitchen               1037\n",
       "Mens                  2912\n",
       "Mobiles               1031\n",
       "Non-Fiction           1004\n",
       "Personal Appliances    972\n",
       "Tools                 1062\n",
       "Women                 3048"
      ]
     },
     "execution_count": 291,
     "metadata": {},
     "output_type": "execute_result"
    }
   ],
   "source": [
    "Prodsubcat = pd.crosstab (index = Customer_Final['prod_subcat'], columns='count')\n",
    "Prodsubcat"
   ]
  },
  {
   "cell_type": "markdown",
   "id": "f314c1c4",
   "metadata": {},
   "source": [
    "3. Generate histograms for all continuous variables and frequency bars for categorical variables."
   ]
  },
  {
   "cell_type": "markdown",
   "id": "b9cf09ff",
   "metadata": {},
   "source": [
    "Continuous Variables - 'Qty','Rate','Tax','total_amt'"
   ]
  },
  {
   "cell_type": "code",
   "execution_count": 292,
   "id": "1d966e24",
   "metadata": {},
   "outputs": [
    {
     "data": {
      "text/html": [
       "<div>\n",
       "<style scoped>\n",
       "    .dataframe tbody tr th:only-of-type {\n",
       "        vertical-align: middle;\n",
       "    }\n",
       "\n",
       "    .dataframe tbody tr th {\n",
       "        vertical-align: top;\n",
       "    }\n",
       "\n",
       "    .dataframe thead th {\n",
       "        text-align: right;\n",
       "    }\n",
       "</style>\n",
       "<table border=\"1\" class=\"dataframe\">\n",
       "  <thead>\n",
       "    <tr style=\"text-align: right;\">\n",
       "      <th></th>\n",
       "      <th>Qty</th>\n",
       "      <th>Rate</th>\n",
       "      <th>Tax</th>\n",
       "      <th>total_amt</th>\n",
       "    </tr>\n",
       "  </thead>\n",
       "  <tbody>\n",
       "    <tr>\n",
       "      <th>0</th>\n",
       "      <td>-5</td>\n",
       "      <td>-772</td>\n",
       "      <td>405.300</td>\n",
       "      <td>-4265.300</td>\n",
       "    </tr>\n",
       "    <tr>\n",
       "      <th>1</th>\n",
       "      <td>-5</td>\n",
       "      <td>-1497</td>\n",
       "      <td>785.925</td>\n",
       "      <td>-8270.925</td>\n",
       "    </tr>\n",
       "    <tr>\n",
       "      <th>2</th>\n",
       "      <td>-2</td>\n",
       "      <td>-791</td>\n",
       "      <td>166.110</td>\n",
       "      <td>-1748.110</td>\n",
       "    </tr>\n",
       "    <tr>\n",
       "      <th>3</th>\n",
       "      <td>-3</td>\n",
       "      <td>-1363</td>\n",
       "      <td>429.345</td>\n",
       "      <td>-4518.345</td>\n",
       "    </tr>\n",
       "    <tr>\n",
       "      <th>4</th>\n",
       "      <td>2</td>\n",
       "      <td>791</td>\n",
       "      <td>166.110</td>\n",
       "      <td>1748.110</td>\n",
       "    </tr>\n",
       "    <tr>\n",
       "      <th>...</th>\n",
       "      <td>...</td>\n",
       "      <td>...</td>\n",
       "      <td>...</td>\n",
       "      <td>...</td>\n",
       "    </tr>\n",
       "    <tr>\n",
       "      <th>23048</th>\n",
       "      <td>1</td>\n",
       "      <td>1264</td>\n",
       "      <td>132.720</td>\n",
       "      <td>1396.720</td>\n",
       "    </tr>\n",
       "    <tr>\n",
       "      <th>23049</th>\n",
       "      <td>1</td>\n",
       "      <td>677</td>\n",
       "      <td>71.085</td>\n",
       "      <td>748.085</td>\n",
       "    </tr>\n",
       "    <tr>\n",
       "      <th>23050</th>\n",
       "      <td>4</td>\n",
       "      <td>1052</td>\n",
       "      <td>441.840</td>\n",
       "      <td>4649.840</td>\n",
       "    </tr>\n",
       "    <tr>\n",
       "      <th>23051</th>\n",
       "      <td>3</td>\n",
       "      <td>1142</td>\n",
       "      <td>359.730</td>\n",
       "      <td>3785.730</td>\n",
       "    </tr>\n",
       "    <tr>\n",
       "      <th>23052</th>\n",
       "      <td>1</td>\n",
       "      <td>447</td>\n",
       "      <td>46.935</td>\n",
       "      <td>493.935</td>\n",
       "    </tr>\n",
       "  </tbody>\n",
       "</table>\n",
       "<p>23053 rows × 4 columns</p>\n",
       "</div>"
      ],
      "text/plain": [
       "       Qty  Rate      Tax  total_amt\n",
       "0       -5  -772  405.300  -4265.300\n",
       "1       -5 -1497  785.925  -8270.925\n",
       "2       -2  -791  166.110  -1748.110\n",
       "3       -3 -1363  429.345  -4518.345\n",
       "4        2   791  166.110   1748.110\n",
       "...    ...   ...      ...        ...\n",
       "23048    1  1264  132.720   1396.720\n",
       "23049    1   677   71.085    748.085\n",
       "23050    4  1052  441.840   4649.840\n",
       "23051    3  1142  359.730   3785.730\n",
       "23052    1   447   46.935    493.935\n",
       "\n",
       "[23053 rows x 4 columns]"
      ]
     },
     "execution_count": 292,
     "metadata": {},
     "output_type": "execute_result"
    }
   ],
   "source": [
    "Customer_Final[['Qty','Rate','Tax','total_amt']]"
   ]
  },
  {
   "cell_type": "code",
   "execution_count": 293,
   "id": "ddbcafb5",
   "metadata": {},
   "outputs": [
    {
     "data": {
      "image/png": "[encoded data removed]",
      "text/plain": [
       "<Figure size 360x216 with 1 Axes>"
      ]
     },
     "metadata": {
      "needs_background": "light"
     },
     "output_type": "display_data"
    },
    {
     "data": {
      "image/png": "[encoded data removed]",
      "text/plain": [
       "<Figure size 360x216 with 1 Axes>"
      ]
     },
     "metadata": {
      "needs_background": "light"
     },
     "output_type": "display_data"
    },
    {
     "data": {
      "image/png": "[encoded data removed]",
      "text/plain": [
       "<Figure size 360x216 with 1 Axes>"
      ]
     },
     "metadata": {
      "needs_background": "light"
     },
     "output_type": "display_data"
    },
    {
     "data": {
      "image/png": "[encoded data removed]",
      "text/plain": [
       "<Figure size 360x216 with 1 Axes>"
      ]
     },
     "metadata": {
      "needs_background": "light"
     },
     "output_type": "display_data"
    }
   ],
   "source": [
    "def func( x ):\n",
    "    plt.figure( figsize = (5, 3) )\n",
    "    plt.title( 'This is a histogram for ' + x.name )\n",
    "    x.plot(kind = 'hist',bins=10)\n",
    "    plt.show()\n",
    "\n",
    "Customer_Final[['Qty','Rate','Tax','total_amt']].apply( func )\n",
    "plt.show()"
   ]
  },
  {
   "cell_type": "markdown",
   "id": "4a38b3db",
   "metadata": {},
   "source": [
    "Categorical Variables - ('customer_Id', 'DOB', 'Gender', 'city_code', 'transaction_id','tran_date', 'prod_subcat_code', 'prod_cat_code','Store_type', 'prod_cat', 'prod_subcat')"
   ]
  },
  {
   "cell_type": "code",
   "execution_count": 294,
   "id": "e746063c",
   "metadata": {},
   "outputs": [
    {
     "data": {
      "text/plain": [
       "['CustomerId',\n",
       " 'DateofBirth',\n",
       " 'Gender',\n",
       " 'Citycode',\n",
       " 'Transactions',\n",
       " 'TransDate',\n",
       " 'Prodsubcatcode',\n",
       " 'Prodcatcode',\n",
       " 'Storetype',\n",
       " 'Prodcat',\n",
       " 'Prodsubcat']"
      ]
     },
     "execution_count": 294,
     "metadata": {},
     "output_type": "execute_result"
    }
   ],
   "source": [
    "cat_var = ['CustomerId','DateofBirth','Gender','Citycode','Transactions','TransDate','Prodsubcatcode','Prodcatcode','Storetype','Prodcat','Prodsubcat']\n",
    "cat_var"
   ]
  },
  {
   "cell_type": "code",
   "execution_count": 295,
   "id": "0b96bd7d",
   "metadata": {},
   "outputs": [
    {
     "data": {
      "text/plain": [
       "<AxesSubplot:ylabel='Gender'>"
      ]
     },
     "execution_count": 295,
     "metadata": {},
     "output_type": "execute_result"
    },
    {
     "data": {
      "image/png": "[encoded data removed]",
      "text/plain": [
       "<Figure size 432x288 with 1 Axes>"
      ]
     },
     "metadata": {
      "needs_background": "light"
     },
     "output_type": "display_data"
    }
   ],
   "source": [
    "Gender.plot( kind = 'barh')"
   ]
  },
  {
   "cell_type": "code",
   "execution_count": 296,
   "id": "7e299723",
   "metadata": {},
   "outputs": [
    {
     "data": {
      "text/plain": [
       "<AxesSubplot:ylabel='city_code'>"
      ]
     },
     "execution_count": 296,
     "metadata": {},
     "output_type": "execute_result"
    },
    {
     "data": {
      "image/png": "[encoded data removed]",
      "text/plain": [
       "<Figure size 432x288 with 1 Axes>"
      ]
     },
     "metadata": {
      "needs_background": "light"
     },
     "output_type": "display_data"
    }
   ],
   "source": [
    "Citycode.plot( kind = 'barh' )"
   ]
  },
  {
   "cell_type": "code",
   "execution_count": 297,
   "id": "98f48123",
   "metadata": {},
   "outputs": [
    {
     "data": {
      "text/plain": [
       "<AxesSubplot:ylabel='prod_subcat_code'>"
      ]
     },
     "execution_count": 297,
     "metadata": {},
     "output_type": "execute_result"
    },
    {
     "data": {
      "image/png": "[encoded data removed]",
      "text/plain": [
       "<Figure size 432x288 with 1 Axes>"
      ]
     },
     "metadata": {
      "needs_background": "light"
     },
     "output_type": "display_data"
    }
   ],
   "source": [
    "Prodsubcatcode.plot( kind = 'barh' )"
   ]
  },
  {
   "cell_type": "code",
   "execution_count": 298,
   "id": "d4bd44d8",
   "metadata": {},
   "outputs": [
    {
     "data": {
      "text/plain": [
       "<AxesSubplot:ylabel='Store_type'>"
      ]
     },
     "execution_count": 298,
     "metadata": {},
     "output_type": "execute_result"
    },
    {
     "data": {
      "image/png": "[encoded data removed]",
      "text/plain": [
       "<Figure size 432x288 with 1 Axes>"
      ]
     },
     "metadata": {
      "needs_background": "light"
     },
     "output_type": "display_data"
    }
   ],
   "source": [
    "Storetype.plot( kind = 'barh' )"
   ]
  },
  {
   "cell_type": "code",
   "execution_count": 299,
   "id": "83b63331",
   "metadata": {},
   "outputs": [
    {
     "data": {
      "text/plain": [
       "<AxesSubplot:ylabel='prod_cat'>"
      ]
     },
     "execution_count": 299,
     "metadata": {},
     "output_type": "execute_result"
    },
    {
     "data": {
      "image/png": "[encoded data removed]",
      "text/plain": [
       "<Figure size 432x288 with 1 Axes>"
      ]
     },
     "metadata": {
      "needs_background": "light"
     },
     "output_type": "display_data"
    }
   ],
   "source": [
    "Prodcat.plot( kind = 'barh' )"
   ]
  },
  {
   "cell_type": "code",
   "execution_count": 300,
   "id": "cfe3a5db",
   "metadata": {},
   "outputs": [
    {
     "data": {
      "text/plain": [
       "<AxesSubplot:ylabel='prod_subcat'>"
      ]
     },
     "execution_count": 300,
     "metadata": {},
     "output_type": "execute_result"
    },
    {
     "data": {
      "image/png": "[encoded data removed]",
      "text/plain": [
       "<Figure size 432x288 with 1 Axes>"
      ]
     },
     "metadata": {
      "needs_background": "light"
     },
     "output_type": "display_data"
    }
   ],
   "source": [
    "Prodsubcat.plot( kind = 'barh' )"
   ]
  },
  {
   "cell_type": "markdown",
   "id": "fc6cb404",
   "metadata": {},
   "source": [
    "4. Calculate the following information using the merged dataset :\n",
    "     a. Time period of the available transaction data\n",
    "     b. Count of transactions where the total amount of transaction was negative"
   ]
  },
  {
   "cell_type": "markdown",
   "id": "e5c1023d",
   "metadata": {},
   "source": [
    "a. Time period of the available transaction data\""
   ]
  },
  {
   "cell_type": "code",
   "execution_count": 301,
   "id": "c80d7579",
   "metadata": {},
   "outputs": [
    {
     "name": "stdout",
     "output_type": "stream",
     "text": [
      "Time period of the available transaction data is from 02-01-2011 to 02-12-2014\n"
     ]
    }
   ],
   "source": [
    "a = pd.Timestamp.strftime(Customer_Final.tran_date.min(),format=\"%d-%m-%Y\")\n",
    "b = pd.Timestamp.strftime(Customer_Final.tran_date.max(),format=\"%d-%m-%Y\")\n",
    "print('Time period of the available transaction data is from',a,'to',b)"
   ]
  },
  {
   "cell_type": "markdown",
   "id": "9ddc0b35",
   "metadata": {},
   "source": [
    " b. Count of transactions where the total amount of transaction was negative"
   ]
  },
  {
   "cell_type": "code",
   "execution_count": 302,
   "id": "4dca55cd",
   "metadata": {},
   "outputs": [
    {
     "name": "stdout",
     "output_type": "stream",
     "text": [
      "Count of transactions where the total amount of transaction was negative is  2176\n"
     ]
    }
   ],
   "source": [
    "x = Customer_Final.loc[Customer_Final['total_amt'] < 0].total_amt.count()\n",
    "print('Count of transactions where the total amount of transaction was negative is ',x)"
   ]
  },
  {
   "cell_type": "markdown",
   "id": "6b087cbf",
   "metadata": {},
   "source": [
    "5. Analyze which product categories are more popular among females vs male customers."
   ]
  },
  {
   "cell_type": "code",
   "execution_count": 303,
   "id": "4a94fa73",
   "metadata": {},
   "outputs": [
    {
     "data": {
      "text/html": [
       "<div>\n",
       "<style scoped>\n",
       "    .dataframe tbody tr th:only-of-type {\n",
       "        vertical-align: middle;\n",
       "    }\n",
       "\n",
       "    .dataframe tbody tr th {\n",
       "        vertical-align: top;\n",
       "    }\n",
       "\n",
       "    .dataframe thead th {\n",
       "        text-align: right;\n",
       "    }\n",
       "</style>\n",
       "<table border=\"1\" class=\"dataframe\">\n",
       "  <thead>\n",
       "    <tr style=\"text-align: right;\">\n",
       "      <th>Gender</th>\n",
       "      <th>F</th>\n",
       "      <th>M</th>\n",
       "    </tr>\n",
       "    <tr>\n",
       "      <th>prod_cat</th>\n",
       "      <th></th>\n",
       "      <th></th>\n",
       "    </tr>\n",
       "  </thead>\n",
       "  <tbody>\n",
       "    <tr>\n",
       "      <th>Bags</th>\n",
       "      <td>994</td>\n",
       "      <td>1004</td>\n",
       "    </tr>\n",
       "    <tr>\n",
       "      <th>Books</th>\n",
       "      <td>2949</td>\n",
       "      <td>3116</td>\n",
       "    </tr>\n",
       "    <tr>\n",
       "      <th>Clothing</th>\n",
       "      <td>1439</td>\n",
       "      <td>1518</td>\n",
       "    </tr>\n",
       "    <tr>\n",
       "      <th>Electronics</th>\n",
       "      <td>2328</td>\n",
       "      <td>2570</td>\n",
       "    </tr>\n",
       "    <tr>\n",
       "      <th>Footwear</th>\n",
       "      <td>1529</td>\n",
       "      <td>1469</td>\n",
       "    </tr>\n",
       "    <tr>\n",
       "      <th>Home and kitchen</th>\n",
       "      <td>1994</td>\n",
       "      <td>2134</td>\n",
       "    </tr>\n",
       "  </tbody>\n",
       "</table>\n",
       "</div>"
      ],
      "text/plain": [
       "Gender               F     M\n",
       "prod_cat                    \n",
       "Bags               994  1004\n",
       "Books             2949  3116\n",
       "Clothing          1439  1518\n",
       "Electronics       2328  2570\n",
       "Footwear          1529  1469\n",
       "Home and kitchen  1994  2134"
      ]
     },
     "execution_count": 303,
     "metadata": {},
     "output_type": "execute_result"
    }
   ],
   "source": [
    "pd.crosstab (index = Customer_Final[ 'prod_cat'], columns=Customer_Final['Gender'])"
   ]
  },
  {
   "cell_type": "code",
   "execution_count": 304,
   "id": "87192f32",
   "metadata": {},
   "outputs": [
    {
     "name": "stdout",
     "output_type": "stream",
     "text": [
      "1. Footwear is more popular product category among female customers than male customers.\n",
      "2. Rest all product categories are more popular among male customers than female customers.\n"
     ]
    }
   ],
   "source": [
    "print(\n",
    "'''1. Footwear is more popular product category among female customers than male customers.\n",
    "2. Rest all product categories are more popular among male customers than female customers.''')"
   ]
  },
  {
   "cell_type": "markdown",
   "id": "18a835ac",
   "metadata": {},
   "source": [
    "6. Which City code has the maximum customers and what was the percentage of customers from \n",
    "that city?"
   ]
  },
  {
   "cell_type": "code",
   "execution_count": 305,
   "id": "f954a26f",
   "metadata": {},
   "outputs": [
    {
     "data": {
      "text/plain": [
       "city_code\n",
       "4.0     2422\n",
       "3.0     2411\n",
       "5.0     2360\n",
       "7.0     2356\n",
       "10.0    2333\n",
       "8.0     2330\n",
       "2.0     2270\n",
       "1.0     2258\n",
       "9.0     2178\n",
       "6.0     2127\n",
       "Name: cust_id, dtype: int64"
      ]
     },
     "execution_count": 305,
     "metadata": {},
     "output_type": "execute_result"
    }
   ],
   "source": [
    "codemax = Customer_Final.groupby('city_code').cust_id.count().sort_values(ascending =False)\n",
    "codemax"
   ]
  },
  {
   "cell_type": "code",
   "execution_count": 306,
   "id": "518a6d08",
   "metadata": {},
   "outputs": [
    {
     "data": {
      "text/plain": [
       "10.51"
      ]
     },
     "execution_count": 306,
     "metadata": {},
     "output_type": "execute_result"
    }
   ],
   "source": [
    "y = round(codemax.max()/codemax.sum()*100,2)\n",
    "y"
   ]
  },
  {
   "cell_type": "code",
   "execution_count": 307,
   "id": "3449bf68",
   "metadata": {},
   "outputs": [
    {
     "name": "stdout",
     "output_type": "stream",
     "text": [
      "City code with maximum customers : 4 | Percentage of customers from that city : 10.51 %\n"
     ]
    }
   ],
   "source": [
    "print('City code with maximum customers : 4 | Percentage of customers from that city :',y,'%')"
   ]
  },
  {
   "cell_type": "markdown",
   "id": "f0e2743e",
   "metadata": {},
   "source": [
    "7. Which store type sells the maximum products by value and by quantity?"
   ]
  },
  {
   "cell_type": "code",
   "execution_count": 308,
   "id": "3931cb2e",
   "metadata": {},
   "outputs": [
    {
     "data": {
      "text/html": [
       "<div>\n",
       "<style scoped>\n",
       "    .dataframe tbody tr th:only-of-type {\n",
       "        vertical-align: middle;\n",
       "    }\n",
       "\n",
       "    .dataframe tbody tr th {\n",
       "        vertical-align: top;\n",
       "    }\n",
       "\n",
       "    .dataframe thead th {\n",
       "        text-align: right;\n",
       "    }\n",
       "</style>\n",
       "<table border=\"1\" class=\"dataframe\">\n",
       "  <thead>\n",
       "    <tr style=\"text-align: right;\">\n",
       "      <th></th>\n",
       "      <th>total_amt</th>\n",
       "      <th>Qty</th>\n",
       "    </tr>\n",
       "    <tr>\n",
       "      <th>Store_type</th>\n",
       "      <th></th>\n",
       "      <th></th>\n",
       "    </tr>\n",
       "  </thead>\n",
       "  <tbody>\n",
       "    <tr>\n",
       "      <th>e-Shop</th>\n",
       "      <td>19824816.05</td>\n",
       "      <td>22763</td>\n",
       "    </tr>\n",
       "    <tr>\n",
       "      <th>Flagship store</th>\n",
       "      <td>9715688.19</td>\n",
       "      <td>11133</td>\n",
       "    </tr>\n",
       "    <tr>\n",
       "      <th>MBR</th>\n",
       "      <td>9674486.06</td>\n",
       "      <td>11194</td>\n",
       "    </tr>\n",
       "    <tr>\n",
       "      <th>TeleShop</th>\n",
       "      <td>9368277.30</td>\n",
       "      <td>10988</td>\n",
       "    </tr>\n",
       "  </tbody>\n",
       "</table>\n",
       "</div>"
      ],
      "text/plain": [
       "                  total_amt    Qty\n",
       "Store_type                        \n",
       "e-Shop          19824816.05  22763\n",
       "Flagship store   9715688.19  11133\n",
       "MBR              9674486.06  11194\n",
       "TeleShop         9368277.30  10988"
      ]
     },
     "execution_count": 308,
     "metadata": {},
     "output_type": "execute_result"
    }
   ],
   "source": [
    "Customer_Final.groupby('Store_type')[['total_amt', 'Qty']].sum().sort_values(by = 'total_amt',ascending =False).round(2)"
   ]
  },
  {
   "cell_type": "markdown",
   "id": "b1b3667a",
   "metadata": {},
   "source": [
    "8. What was the total amount earned from the \"Electronics\" and \"Clothing\" categories from \n",
    "Flagship Stores?"
   ]
  },
  {
   "cell_type": "code",
   "execution_count": 309,
   "id": "41a95915",
   "metadata": {},
   "outputs": [
    {
     "ename": "SyntaxError",
     "evalue": "unexpected EOF while parsing (Temp/ipykernel_7896/3489903032.py, line 1)",
     "output_type": "error",
     "traceback": [
      "\u001b[1;36m  File \u001b[1;32m\"C:\\Users\\hp\\AppData\\Local\\Temp/ipykernel_7896/3489903032.py\"\u001b[1;36m, line \u001b[1;32m1\u001b[0m\n\u001b[1;33m    Customer_Final.groupby('prod_cat')[['total_amt'].sum().loc[['Clothing','Electronics']].round(2)\u001b[0m\n\u001b[1;37m                                                                                                   ^\u001b[0m\n\u001b[1;31mSyntaxError\u001b[0m\u001b[1;31m:\u001b[0m unexpected EOF while parsing\n"
     ]
    }
   ],
   "source": [
    "Customer_Final.groupby('prod_cat')[['total_amt'].sum().loc[['Clothing','Electronics']].round(2)"
   ]
  },
  {
   "cell_type": "markdown",
   "id": "31e81bee",
   "metadata": {},
   "source": [
    "9. What was the total amount earned from \"Male\" customers under the \"Electronics\" category?"
   ]
  },
  {
   "cell_type": "code",
   "execution_count": 310,
   "id": "10eb3707",
   "metadata": {},
   "outputs": [
    {
     "data": {
      "text/html": [
       "<div>\n",
       "<style scoped>\n",
       "    .dataframe tbody tr th:only-of-type {\n",
       "        vertical-align: middle;\n",
       "    }\n",
       "\n",
       "    .dataframe tbody tr th {\n",
       "        vertical-align: top;\n",
       "    }\n",
       "\n",
       "    .dataframe thead th {\n",
       "        text-align: right;\n",
       "    }\n",
       "</style>\n",
       "<table border=\"1\" class=\"dataframe\">\n",
       "  <thead>\n",
       "    <tr style=\"text-align: right;\">\n",
       "      <th>Gender</th>\n",
       "      <th>F</th>\n",
       "      <th>M</th>\n",
       "    </tr>\n",
       "    <tr>\n",
       "      <th>prod_cat</th>\n",
       "      <th></th>\n",
       "      <th></th>\n",
       "    </tr>\n",
       "  </thead>\n",
       "  <tbody>\n",
       "    <tr>\n",
       "      <th>Bags</th>\n",
       "      <td>2077985.65</td>\n",
       "      <td>2046722.99</td>\n",
       "    </tr>\n",
       "    <tr>\n",
       "      <th>Books</th>\n",
       "      <td>6164692.24</td>\n",
       "      <td>6649469.00</td>\n",
       "    </tr>\n",
       "    <tr>\n",
       "      <th>Clothing</th>\n",
       "      <td>3026750.80</td>\n",
       "      <td>3224079.50</td>\n",
       "    </tr>\n",
       "    <tr>\n",
       "      <th>Electronics</th>\n",
       "      <td>5019354.21</td>\n",
       "      <td>5703109.42</td>\n",
       "    </tr>\n",
       "    <tr>\n",
       "      <th>Footwear</th>\n",
       "      <td>3202552.99</td>\n",
       "      <td>3014672.05</td>\n",
       "    </tr>\n",
       "    <tr>\n",
       "      <th>Home and kitchen</th>\n",
       "      <td>4132177.34</td>\n",
       "      <td>4301075.48</td>\n",
       "    </tr>\n",
       "  </tbody>\n",
       "</table>\n",
       "</div>"
      ],
      "text/plain": [
       "Gender                     F           M\n",
       "prod_cat                                \n",
       "Bags              2077985.65  2046722.99\n",
       "Books             6164692.24  6649469.00\n",
       "Clothing          3026750.80  3224079.50\n",
       "Electronics       5019354.21  5703109.42\n",
       "Footwear          3202552.99  3014672.05\n",
       "Home and kitchen  4132177.34  4301075.48"
      ]
     },
     "execution_count": 310,
     "metadata": {},
     "output_type": "execute_result"
    }
   ],
   "source": [
    "Customer_Final.pivot_table(index = \"prod_cat\",columns=\"Gender\", values=\"total_amt\", aggfunc='sum').round(2)"
   ]
  },
  {
   "cell_type": "code",
   "execution_count": 311,
   "id": "b8a1d968",
   "metadata": {},
   "outputs": [
    {
     "name": "stdout",
     "output_type": "stream",
     "text": [
      "The total amount earned from Male customers under the Electronics category male_earnings : 5703109.42\n"
     ]
    }
   ],
   "source": [
    "males_earned = Customer_Final.pivot_table(index = \"prod_cat\",columns=\"Gender\", values=\"total_amt\", aggfunc='sum').loc['Electronics','M'].round(2)\n",
    "print('The total amount earned from Male customers under the Electronics category male_earnings :',males_earned)"
   ]
  },
  {
   "cell_type": "markdown",
   "id": "dcb4e0ec",
   "metadata": {},
   "source": [
    "10. How many customers have more than 10 unique transactions, after removing all transactions \n",
    "which have any negative amounts?"
   ]
  },
  {
   "cell_type": "code",
   "execution_count": 312,
   "id": "d73203af",
   "metadata": {},
   "outputs": [],
   "source": [
    "transactions = Customer_Final.loc[Customer_Final['total_amt']>0]"
   ]
  },
  {
   "cell_type": "code",
   "execution_count": 313,
   "id": "10487cb4",
   "metadata": {},
   "outputs": [
    {
     "data": {
      "text/plain": [
       "cust_id  transaction_id\n",
       "266783   8410316370        1\n",
       "         16999552161       1\n",
       "         25890929042       1\n",
       "         98477711300       1\n",
       "266784   26928161256       1\n",
       "                          ..\n",
       "275264   81382444243       1\n",
       "         94712826085       1\n",
       "275265   7214136016        1\n",
       "         24113900219       1\n",
       "         38961184788       1\n",
       "Name: transaction_id, Length: 20876, dtype: int64"
      ]
     },
     "execution_count": 313,
     "metadata": {},
     "output_type": "execute_result"
    }
   ],
   "source": [
    "unique_trans= transactions.groupby(['cust_id','transaction_id']).transaction_id.count()\n",
    "unique_trans"
   ]
  },
  {
   "cell_type": "code",
   "execution_count": 314,
   "id": "75201f56",
   "metadata": {},
   "outputs": [],
   "source": [
    "ut=unique_trans.groupby(['cust_id']).count()"
   ]
  },
  {
   "cell_type": "code",
   "execution_count": 315,
   "id": "4215b19c",
   "metadata": {},
   "outputs": [],
   "source": [
    "y=ut[ut>10].count()"
   ]
  },
  {
   "cell_type": "code",
   "execution_count": 316,
   "id": "4245e169",
   "metadata": {},
   "outputs": [
    {
     "name": "stdout",
     "output_type": "stream",
     "text": [
      "Customers having more than 10 unique transactions: 6\n"
     ]
    }
   ],
   "source": [
    "print('Customers having more than 10 unique transactions:',y)"
   ]
  },
  {
   "cell_type": "markdown",
   "id": "90be9d9a",
   "metadata": {},
   "source": [
    "11. For all customers aged between 25 - 35, find out:\n",
    "     a. What was the total amount spent for “Electronics” and “Books” product categories?\n",
    "     b. What was the total amount spent by these customers between 1st Jan, 2014 to 1st Mar, 2014?"
   ]
  },
  {
   "cell_type": "markdown",
   "id": "25616098",
   "metadata": {},
   "source": [
    "a. What was the total amount spent for “Electronics” and “Books” product categories"
   ]
  },
  {
   "cell_type": "code",
   "execution_count": 317,
   "id": "23221a70",
   "metadata": {},
   "outputs": [],
   "source": [
    "Customer_Final['Age'] = pd.Timestamp.today().year - Customer_Final['DOB'].dt.year"
   ]
  },
  {
   "cell_type": "code",
   "execution_count": 318,
   "id": "6ca65fd4",
   "metadata": {},
   "outputs": [
    {
     "data": {
      "text/html": [
       "<div>\n",
       "<style scoped>\n",
       "    .dataframe tbody tr th:only-of-type {\n",
       "        vertical-align: middle;\n",
       "    }\n",
       "\n",
       "    .dataframe tbody tr th {\n",
       "        vertical-align: top;\n",
       "    }\n",
       "\n",
       "    .dataframe thead th {\n",
       "        text-align: right;\n",
       "    }\n",
       "</style>\n",
       "<table border=\"1\" class=\"dataframe\">\n",
       "  <thead>\n",
       "    <tr style=\"text-align: right;\">\n",
       "      <th></th>\n",
       "      <th>cust_id</th>\n",
       "      <th>DOB</th>\n",
       "      <th>Gender</th>\n",
       "      <th>city_code</th>\n",
       "      <th>transaction_id</th>\n",
       "      <th>tran_date</th>\n",
       "      <th>prod_subcat_code</th>\n",
       "      <th>prod_cat_code</th>\n",
       "      <th>Qty</th>\n",
       "      <th>Rate</th>\n",
       "      <th>Tax</th>\n",
       "      <th>total_amt</th>\n",
       "      <th>Store_type</th>\n",
       "      <th>prod_cat</th>\n",
       "      <th>prod_subcat</th>\n",
       "      <th>Age</th>\n",
       "    </tr>\n",
       "  </thead>\n",
       "  <tbody>\n",
       "    <tr>\n",
       "      <th>2</th>\n",
       "      <td>273420</td>\n",
       "      <td>1992-07-27</td>\n",
       "      <td>M</td>\n",
       "      <td>8.0</td>\n",
       "      <td>51750724947</td>\n",
       "      <td>2014-02-24</td>\n",
       "      <td>6</td>\n",
       "      <td>5</td>\n",
       "      <td>-2</td>\n",
       "      <td>-791</td>\n",
       "      <td>166.110</td>\n",
       "      <td>-1748.110</td>\n",
       "      <td>TeleShop</td>\n",
       "      <td>Books</td>\n",
       "      <td>DIY</td>\n",
       "      <td>31</td>\n",
       "    </tr>\n",
       "    <tr>\n",
       "      <th>4</th>\n",
       "      <td>273420</td>\n",
       "      <td>1992-07-27</td>\n",
       "      <td>M</td>\n",
       "      <td>8.0</td>\n",
       "      <td>51750724947</td>\n",
       "      <td>2014-02-23</td>\n",
       "      <td>6</td>\n",
       "      <td>5</td>\n",
       "      <td>2</td>\n",
       "      <td>791</td>\n",
       "      <td>166.110</td>\n",
       "      <td>1748.110</td>\n",
       "      <td>TeleShop</td>\n",
       "      <td>Books</td>\n",
       "      <td>DIY</td>\n",
       "      <td>31</td>\n",
       "    </tr>\n",
       "    <tr>\n",
       "      <th>23</th>\n",
       "      <td>268509</td>\n",
       "      <td>1989-08-17</td>\n",
       "      <td>M</td>\n",
       "      <td>10.0</td>\n",
       "      <td>91116291703</td>\n",
       "      <td>2014-02-20</td>\n",
       "      <td>1</td>\n",
       "      <td>2</td>\n",
       "      <td>4</td>\n",
       "      <td>1243</td>\n",
       "      <td>522.060</td>\n",
       "      <td>5494.060</td>\n",
       "      <td>MBR</td>\n",
       "      <td>Footwear</td>\n",
       "      <td>Mens</td>\n",
       "      <td>34</td>\n",
       "    </tr>\n",
       "    <tr>\n",
       "      <th>28</th>\n",
       "      <td>268444</td>\n",
       "      <td>1992-02-01</td>\n",
       "      <td>F</td>\n",
       "      <td>6.0</td>\n",
       "      <td>88853694830</td>\n",
       "      <td>2014-02-20</td>\n",
       "      <td>4</td>\n",
       "      <td>4</td>\n",
       "      <td>-3</td>\n",
       "      <td>-80</td>\n",
       "      <td>25.200</td>\n",
       "      <td>-265.200</td>\n",
       "      <td>MBR</td>\n",
       "      <td>Bags</td>\n",
       "      <td>Women</td>\n",
       "      <td>31</td>\n",
       "    </tr>\n",
       "    <tr>\n",
       "      <th>37</th>\n",
       "      <td>267058</td>\n",
       "      <td>1992-06-02</td>\n",
       "      <td>F</td>\n",
       "      <td>10.0</td>\n",
       "      <td>31384765864</td>\n",
       "      <td>2014-02-19</td>\n",
       "      <td>3</td>\n",
       "      <td>2</td>\n",
       "      <td>1</td>\n",
       "      <td>793</td>\n",
       "      <td>83.265</td>\n",
       "      <td>876.265</td>\n",
       "      <td>e-Shop</td>\n",
       "      <td>Footwear</td>\n",
       "      <td>Women</td>\n",
       "      <td>31</td>\n",
       "    </tr>\n",
       "  </tbody>\n",
       "</table>\n",
       "</div>"
      ],
      "text/plain": [
       "    cust_id        DOB Gender  city_code  transaction_id  tran_date  \\\n",
       "2    273420 1992-07-27      M        8.0     51750724947 2014-02-24   \n",
       "4    273420 1992-07-27      M        8.0     51750724947 2014-02-23   \n",
       "23   268509 1989-08-17      M       10.0     91116291703 2014-02-20   \n",
       "28   268444 1992-02-01      F        6.0     88853694830 2014-02-20   \n",
       "37   267058 1992-06-02      F       10.0     31384765864 2014-02-19   \n",
       "\n",
       "    prod_subcat_code  prod_cat_code  Qty  Rate      Tax  total_amt Store_type  \\\n",
       "2                  6              5   -2  -791  166.110  -1748.110   TeleShop   \n",
       "4                  6              5    2   791  166.110   1748.110   TeleShop   \n",
       "23                 1              2    4  1243  522.060   5494.060        MBR   \n",
       "28                 4              4   -3   -80   25.200   -265.200        MBR   \n",
       "37                 3              2    1   793   83.265    876.265     e-Shop   \n",
       "\n",
       "    prod_cat prod_subcat  Age  \n",
       "2      Books         DIY   31  \n",
       "4      Books         DIY   31  \n",
       "23  Footwear        Mens   34  \n",
       "28      Bags       Women   31  \n",
       "37  Footwear       Women   31  "
      ]
     },
     "execution_count": 318,
     "metadata": {},
     "output_type": "execute_result"
    }
   ],
   "source": [
    "aged_25_35 = Customer_Final.loc[(Customer_Final.Age >=23)&(Customer_Final.Age <=35)]\n",
    "aged_25_35.head()"
   ]
  },
  {
   "cell_type": "code",
   "execution_count": 319,
   "id": "1335fbcf",
   "metadata": {},
   "outputs": [
    {
     "data": {
      "text/plain": [
       "prod_cat\n",
       "Bags                 873679.30\n",
       "Books               2671281.14\n",
       "Clothing            1443346.58\n",
       "Electronics         2272147.41\n",
       "Footwear            1433147.43\n",
       "Home and kitchen    1864549.38\n",
       "Name: total_amt, dtype: float64"
      ]
     },
     "execution_count": 319,
     "metadata": {},
     "output_type": "execute_result"
    }
   ],
   "source": [
    "amt_spent = round(aged_25_35.groupby(by = 'prod_cat').total_amt.sum(),2)\n",
    "amt_spent"
   ]
  },
  {
   "cell_type": "code",
   "execution_count": 320,
   "id": "7948c876",
   "metadata": {},
   "outputs": [
    {
     "data": {
      "text/plain": [
       "prod_cat\n",
       "Books          2671281.14\n",
       "Electronics    2272147.41\n",
       "Name: total_amt, dtype: float64"
      ]
     },
     "execution_count": 320,
     "metadata": {},
     "output_type": "execute_result"
    }
   ],
   "source": [
    "amt_spent.loc[['Books','Electronics']]"
   ]
  },
  {
   "cell_type": "code",
   "execution_count": 321,
   "id": "f8534969",
   "metadata": {},
   "outputs": [
    {
     "name": "stdout",
     "output_type": "stream",
     "text": [
      "Total amount spent for \"Electronics\" and \"Books\" product categories :  4943428.55\n"
     ]
    }
   ],
   "source": [
    "print('Total amount spent for \"Electronics\" and \"Books\" product categories : ', \n",
    "      amt_spent.loc[['Books','Electronics']].sum().round(2))"
   ]
  },
  {
   "cell_type": "markdown",
   "id": "9615e0d2",
   "metadata": {},
   "source": [
    "b. What was the total amount spent by these customers between 1st Jan, 2014 to 1st Mar, 2014"
   ]
  },
  {
   "cell_type": "code",
   "execution_count": 322,
   "id": "264969f2",
   "metadata": {},
   "outputs": [],
   "source": [
    "amt_spent1 = aged_25_35.loc[(aged_25_35.tran_date >='01-01-2014') & (aged_25_35.tran_date <='01-03-2014')]"
   ]
  },
  {
   "cell_type": "code",
   "execution_count": 323,
   "id": "4f4ad6dd",
   "metadata": {},
   "outputs": [
    {
     "name": "stdout",
     "output_type": "stream",
     "text": [
      "The total amount spent by the customers aged 25-35, between 1st Jan 2014 to 1st Mar 2014 is 24725.48\n"
     ]
    }
   ],
   "source": [
    "print('The total amount spent by the customers aged 25-35, between 1st Jan 2014 to 1st Mar 2014 is', amt_spent1.total_amt.sum().round(2))"
   ]
  },
  {
   "cell_type": "code",
   "execution_count": null,
   "id": "8c1a85ea",
   "metadata": {},
   "outputs": [],
   "source": []
  }
 ],
 "metadata": {
  "kernelspec": {
   "display_name": "Python 3 (ipykernel)",
   "language": "python",
   "name": "python3"
  },
  "language_info": {
   "codemirror_mode": {
    "name": "ipython",
    "version": 3
   },
   "file_extension": ".py",
   "mimetype": "text/x-python",
   "name": "python",
   "nbconvert_exporter": "python",
   "pygments_lexer": "ipython3",
   "version": "3.9.7"
  }
 },
 "nbformat": 4,
 "nbformat_minor": 5
}
